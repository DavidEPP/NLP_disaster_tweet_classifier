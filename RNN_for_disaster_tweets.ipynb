{
  "metadata": {
    "kernelspec": {
      "language": "python",
      "display_name": "Python 3",
      "name": "python3"
    },
    "language_info": {
      "name": "python",
      "version": "3.10.12",
      "mimetype": "text/x-python",
      "codemirror_mode": {
        "name": "ipython",
        "version": 3
      },
      "pygments_lexer": "ipython3",
      "nbconvert_exporter": "python",
      "file_extension": ".py"
    },
    "kaggle": {
      "accelerator": "gpu",
      "dataSources": [
        {
          "sourceId": 17777,
          "databundleVersionId": 869809,
          "sourceType": "competition"
        }
      ],
      "dockerImageVersionId": 30527,
      "isInternetEnabled": false,
      "language": "python",
      "sourceType": "notebook",
      "isGpuEnabled": true
    },
    "colab": {
      "provenance": [],
      "include_colab_link": true
    },
    "widgets": {
      "application/vnd.jupyter.widget-state+json": {
        "338498c067f54212bd1bdf292e8fa421": {
          "model_module": "@jupyter-widgets/controls",
          "model_name": "VBoxModel",
          "model_module_version": "1.5.0",
          "state": {
            "_dom_classes": [],
            "_model_module": "@jupyter-widgets/controls",
            "_model_module_version": "1.5.0",
            "_model_name": "VBoxModel",
            "_view_count": null,
            "_view_module": "@jupyter-widgets/controls",
            "_view_module_version": "1.5.0",
            "_view_name": "VBoxView",
            "box_style": "",
            "children": [
              "IPY_MODEL_4e2b94e32b4946d68c286b3d1728a70d"
            ],
            "layout": "IPY_MODEL_d3290bafeac545c2a5c46335feb8f695"
          }
        },
        "d4efa1b9da3f4cf3a4c7cfdf522a2916": {
          "model_module": "@jupyter-widgets/controls",
          "model_name": "HTMLModel",
          "model_module_version": "1.5.0",
          "state": {
            "_dom_classes": [],
            "_model_module": "@jupyter-widgets/controls",
            "_model_module_version": "1.5.0",
            "_model_name": "HTMLModel",
            "_view_count": null,
            "_view_module": "@jupyter-widgets/controls",
            "_view_module_version": "1.5.0",
            "_view_name": "HTMLView",
            "description": "",
            "description_tooltip": null,
            "layout": "IPY_MODEL_84e7263e3cc4490fb0bddce81ebe03d5",
            "placeholder": "​",
            "style": "IPY_MODEL_d327c11c6823413ebcc82a0d2ac4794a",
            "value": "<center> <img\nsrc=https://www.kaggle.com/static/images/site-logo.png\nalt='Kaggle'> <br> Create an API token from <a\nhref=\"https://www.kaggle.com/settings/account\" target=\"_blank\">your Kaggle\nsettings page</a> and paste it below along with your Kaggle username. <br> </center>"
          }
        },
        "bcb4e16073f648309e1078de0e5fd7fb": {
          "model_module": "@jupyter-widgets/controls",
          "model_name": "TextModel",
          "model_module_version": "1.5.0",
          "state": {
            "_dom_classes": [],
            "_model_module": "@jupyter-widgets/controls",
            "_model_module_version": "1.5.0",
            "_model_name": "TextModel",
            "_view_count": null,
            "_view_module": "@jupyter-widgets/controls",
            "_view_module_version": "1.5.0",
            "_view_name": "TextView",
            "continuous_update": true,
            "description": "Username:",
            "description_tooltip": null,
            "disabled": false,
            "layout": "IPY_MODEL_8a57c2336bde4ba1b86375d616dad27a",
            "placeholder": "​",
            "style": "IPY_MODEL_1cc0066d5efd4996a7f4cc0857bb09d4",
            "value": "davidepp14"
          }
        },
        "f4265f83c5a04e358055edf6cf5c617c": {
          "model_module": "@jupyter-widgets/controls",
          "model_name": "PasswordModel",
          "model_module_version": "1.5.0",
          "state": {
            "_dom_classes": [],
            "_model_module": "@jupyter-widgets/controls",
            "_model_module_version": "1.5.0",
            "_model_name": "PasswordModel",
            "_view_count": null,
            "_view_module": "@jupyter-widgets/controls",
            "_view_module_version": "1.5.0",
            "_view_name": "PasswordView",
            "continuous_update": true,
            "description": "Token:",
            "description_tooltip": null,
            "disabled": false,
            "layout": "IPY_MODEL_3b9c5ee1347e41e2a43025e6bc926ea4",
            "placeholder": "​",
            "style": "IPY_MODEL_0763f8eff01c45c3a7825a63647ff02d",
            "value": ""
          }
        },
        "5010570282b64e6fac5bdc7ce3230ce9": {
          "model_module": "@jupyter-widgets/controls",
          "model_name": "ButtonModel",
          "model_module_version": "1.5.0",
          "state": {
            "_dom_classes": [],
            "_model_module": "@jupyter-widgets/controls",
            "_model_module_version": "1.5.0",
            "_model_name": "ButtonModel",
            "_view_count": null,
            "_view_module": "@jupyter-widgets/controls",
            "_view_module_version": "1.5.0",
            "_view_name": "ButtonView",
            "button_style": "",
            "description": "Login",
            "disabled": false,
            "icon": "",
            "layout": "IPY_MODEL_8920d2a80f3a44d2863ca5f77461edfd",
            "style": "IPY_MODEL_5449dd10bf7f4424a978b3005cc0b4e0",
            "tooltip": ""
          }
        },
        "247ca77d83394dd28c31c64dc0f8d5a5": {
          "model_module": "@jupyter-widgets/controls",
          "model_name": "HTMLModel",
          "model_module_version": "1.5.0",
          "state": {
            "_dom_classes": [],
            "_model_module": "@jupyter-widgets/controls",
            "_model_module_version": "1.5.0",
            "_model_name": "HTMLModel",
            "_view_count": null,
            "_view_module": "@jupyter-widgets/controls",
            "_view_module_version": "1.5.0",
            "_view_name": "HTMLView",
            "description": "",
            "description_tooltip": null,
            "layout": "IPY_MODEL_75512b9787ca4955963aebbfff4d1b87",
            "placeholder": "​",
            "style": "IPY_MODEL_806be04245964153b23514e7ed2642cd",
            "value": "\n<b>Thank You</b></center>"
          }
        },
        "d3290bafeac545c2a5c46335feb8f695": {
          "model_module": "@jupyter-widgets/base",
          "model_name": "LayoutModel",
          "model_module_version": "1.2.0",
          "state": {
            "_model_module": "@jupyter-widgets/base",
            "_model_module_version": "1.2.0",
            "_model_name": "LayoutModel",
            "_view_count": null,
            "_view_module": "@jupyter-widgets/base",
            "_view_module_version": "1.2.0",
            "_view_name": "LayoutView",
            "align_content": null,
            "align_items": "center",
            "align_self": null,
            "border": null,
            "bottom": null,
            "display": "flex",
            "flex": null,
            "flex_flow": "column",
            "grid_area": null,
            "grid_auto_columns": null,
            "grid_auto_flow": null,
            "grid_auto_rows": null,
            "grid_column": null,
            "grid_gap": null,
            "grid_row": null,
            "grid_template_areas": null,
            "grid_template_columns": null,
            "grid_template_rows": null,
            "height": null,
            "justify_content": null,
            "justify_items": null,
            "left": null,
            "margin": null,
            "max_height": null,
            "max_width": null,
            "min_height": null,
            "min_width": null,
            "object_fit": null,
            "object_position": null,
            "order": null,
            "overflow": null,
            "overflow_x": null,
            "overflow_y": null,
            "padding": null,
            "right": null,
            "top": null,
            "visibility": null,
            "width": "50%"
          }
        },
        "84e7263e3cc4490fb0bddce81ebe03d5": {
          "model_module": "@jupyter-widgets/base",
          "model_name": "LayoutModel",
          "model_module_version": "1.2.0",
          "state": {
            "_model_module": "@jupyter-widgets/base",
            "_model_module_version": "1.2.0",
            "_model_name": "LayoutModel",
            "_view_count": null,
            "_view_module": "@jupyter-widgets/base",
            "_view_module_version": "1.2.0",
            "_view_name": "LayoutView",
            "align_content": null,
            "align_items": null,
            "align_self": null,
            "border": null,
            "bottom": null,
            "display": null,
            "flex": null,
            "flex_flow": null,
            "grid_area": null,
            "grid_auto_columns": null,
            "grid_auto_flow": null,
            "grid_auto_rows": null,
            "grid_column": null,
            "grid_gap": null,
            "grid_row": null,
            "grid_template_areas": null,
            "grid_template_columns": null,
            "grid_template_rows": null,
            "height": null,
            "justify_content": null,
            "justify_items": null,
            "left": null,
            "margin": null,
            "max_height": null,
            "max_width": null,
            "min_height": null,
            "min_width": null,
            "object_fit": null,
            "object_position": null,
            "order": null,
            "overflow": null,
            "overflow_x": null,
            "overflow_y": null,
            "padding": null,
            "right": null,
            "top": null,
            "visibility": null,
            "width": null
          }
        },
        "d327c11c6823413ebcc82a0d2ac4794a": {
          "model_module": "@jupyter-widgets/controls",
          "model_name": "DescriptionStyleModel",
          "model_module_version": "1.5.0",
          "state": {
            "_model_module": "@jupyter-widgets/controls",
            "_model_module_version": "1.5.0",
            "_model_name": "DescriptionStyleModel",
            "_view_count": null,
            "_view_module": "@jupyter-widgets/base",
            "_view_module_version": "1.2.0",
            "_view_name": "StyleView",
            "description_width": ""
          }
        },
        "8a57c2336bde4ba1b86375d616dad27a": {
          "model_module": "@jupyter-widgets/base",
          "model_name": "LayoutModel",
          "model_module_version": "1.2.0",
          "state": {
            "_model_module": "@jupyter-widgets/base",
            "_model_module_version": "1.2.0",
            "_model_name": "LayoutModel",
            "_view_count": null,
            "_view_module": "@jupyter-widgets/base",
            "_view_module_version": "1.2.0",
            "_view_name": "LayoutView",
            "align_content": null,
            "align_items": null,
            "align_self": null,
            "border": null,
            "bottom": null,
            "display": null,
            "flex": null,
            "flex_flow": null,
            "grid_area": null,
            "grid_auto_columns": null,
            "grid_auto_flow": null,
            "grid_auto_rows": null,
            "grid_column": null,
            "grid_gap": null,
            "grid_row": null,
            "grid_template_areas": null,
            "grid_template_columns": null,
            "grid_template_rows": null,
            "height": null,
            "justify_content": null,
            "justify_items": null,
            "left": null,
            "margin": null,
            "max_height": null,
            "max_width": null,
            "min_height": null,
            "min_width": null,
            "object_fit": null,
            "object_position": null,
            "order": null,
            "overflow": null,
            "overflow_x": null,
            "overflow_y": null,
            "padding": null,
            "right": null,
            "top": null,
            "visibility": null,
            "width": null
          }
        },
        "1cc0066d5efd4996a7f4cc0857bb09d4": {
          "model_module": "@jupyter-widgets/controls",
          "model_name": "DescriptionStyleModel",
          "model_module_version": "1.5.0",
          "state": {
            "_model_module": "@jupyter-widgets/controls",
            "_model_module_version": "1.5.0",
            "_model_name": "DescriptionStyleModel",
            "_view_count": null,
            "_view_module": "@jupyter-widgets/base",
            "_view_module_version": "1.2.0",
            "_view_name": "StyleView",
            "description_width": ""
          }
        },
        "3b9c5ee1347e41e2a43025e6bc926ea4": {
          "model_module": "@jupyter-widgets/base",
          "model_name": "LayoutModel",
          "model_module_version": "1.2.0",
          "state": {
            "_model_module": "@jupyter-widgets/base",
            "_model_module_version": "1.2.0",
            "_model_name": "LayoutModel",
            "_view_count": null,
            "_view_module": "@jupyter-widgets/base",
            "_view_module_version": "1.2.0",
            "_view_name": "LayoutView",
            "align_content": null,
            "align_items": null,
            "align_self": null,
            "border": null,
            "bottom": null,
            "display": null,
            "flex": null,
            "flex_flow": null,
            "grid_area": null,
            "grid_auto_columns": null,
            "grid_auto_flow": null,
            "grid_auto_rows": null,
            "grid_column": null,
            "grid_gap": null,
            "grid_row": null,
            "grid_template_areas": null,
            "grid_template_columns": null,
            "grid_template_rows": null,
            "height": null,
            "justify_content": null,
            "justify_items": null,
            "left": null,
            "margin": null,
            "max_height": null,
            "max_width": null,
            "min_height": null,
            "min_width": null,
            "object_fit": null,
            "object_position": null,
            "order": null,
            "overflow": null,
            "overflow_x": null,
            "overflow_y": null,
            "padding": null,
            "right": null,
            "top": null,
            "visibility": null,
            "width": null
          }
        },
        "0763f8eff01c45c3a7825a63647ff02d": {
          "model_module": "@jupyter-widgets/controls",
          "model_name": "DescriptionStyleModel",
          "model_module_version": "1.5.0",
          "state": {
            "_model_module": "@jupyter-widgets/controls",
            "_model_module_version": "1.5.0",
            "_model_name": "DescriptionStyleModel",
            "_view_count": null,
            "_view_module": "@jupyter-widgets/base",
            "_view_module_version": "1.2.0",
            "_view_name": "StyleView",
            "description_width": ""
          }
        },
        "8920d2a80f3a44d2863ca5f77461edfd": {
          "model_module": "@jupyter-widgets/base",
          "model_name": "LayoutModel",
          "model_module_version": "1.2.0",
          "state": {
            "_model_module": "@jupyter-widgets/base",
            "_model_module_version": "1.2.0",
            "_model_name": "LayoutModel",
            "_view_count": null,
            "_view_module": "@jupyter-widgets/base",
            "_view_module_version": "1.2.0",
            "_view_name": "LayoutView",
            "align_content": null,
            "align_items": null,
            "align_self": null,
            "border": null,
            "bottom": null,
            "display": null,
            "flex": null,
            "flex_flow": null,
            "grid_area": null,
            "grid_auto_columns": null,
            "grid_auto_flow": null,
            "grid_auto_rows": null,
            "grid_column": null,
            "grid_gap": null,
            "grid_row": null,
            "grid_template_areas": null,
            "grid_template_columns": null,
            "grid_template_rows": null,
            "height": null,
            "justify_content": null,
            "justify_items": null,
            "left": null,
            "margin": null,
            "max_height": null,
            "max_width": null,
            "min_height": null,
            "min_width": null,
            "object_fit": null,
            "object_position": null,
            "order": null,
            "overflow": null,
            "overflow_x": null,
            "overflow_y": null,
            "padding": null,
            "right": null,
            "top": null,
            "visibility": null,
            "width": null
          }
        },
        "5449dd10bf7f4424a978b3005cc0b4e0": {
          "model_module": "@jupyter-widgets/controls",
          "model_name": "ButtonStyleModel",
          "model_module_version": "1.5.0",
          "state": {
            "_model_module": "@jupyter-widgets/controls",
            "_model_module_version": "1.5.0",
            "_model_name": "ButtonStyleModel",
            "_view_count": null,
            "_view_module": "@jupyter-widgets/base",
            "_view_module_version": "1.2.0",
            "_view_name": "StyleView",
            "button_color": null,
            "font_weight": ""
          }
        },
        "75512b9787ca4955963aebbfff4d1b87": {
          "model_module": "@jupyter-widgets/base",
          "model_name": "LayoutModel",
          "model_module_version": "1.2.0",
          "state": {
            "_model_module": "@jupyter-widgets/base",
            "_model_module_version": "1.2.0",
            "_model_name": "LayoutModel",
            "_view_count": null,
            "_view_module": "@jupyter-widgets/base",
            "_view_module_version": "1.2.0",
            "_view_name": "LayoutView",
            "align_content": null,
            "align_items": null,
            "align_self": null,
            "border": null,
            "bottom": null,
            "display": null,
            "flex": null,
            "flex_flow": null,
            "grid_area": null,
            "grid_auto_columns": null,
            "grid_auto_flow": null,
            "grid_auto_rows": null,
            "grid_column": null,
            "grid_gap": null,
            "grid_row": null,
            "grid_template_areas": null,
            "grid_template_columns": null,
            "grid_template_rows": null,
            "height": null,
            "justify_content": null,
            "justify_items": null,
            "left": null,
            "margin": null,
            "max_height": null,
            "max_width": null,
            "min_height": null,
            "min_width": null,
            "object_fit": null,
            "object_position": null,
            "order": null,
            "overflow": null,
            "overflow_x": null,
            "overflow_y": null,
            "padding": null,
            "right": null,
            "top": null,
            "visibility": null,
            "width": null
          }
        },
        "806be04245964153b23514e7ed2642cd": {
          "model_module": "@jupyter-widgets/controls",
          "model_name": "DescriptionStyleModel",
          "model_module_version": "1.5.0",
          "state": {
            "_model_module": "@jupyter-widgets/controls",
            "_model_module_version": "1.5.0",
            "_model_name": "DescriptionStyleModel",
            "_view_count": null,
            "_view_module": "@jupyter-widgets/base",
            "_view_module_version": "1.2.0",
            "_view_name": "StyleView",
            "description_width": ""
          }
        },
        "5292ce0686f749c6b12c3b139bc0ac04": {
          "model_module": "@jupyter-widgets/controls",
          "model_name": "LabelModel",
          "model_module_version": "1.5.0",
          "state": {
            "_dom_classes": [],
            "_model_module": "@jupyter-widgets/controls",
            "_model_module_version": "1.5.0",
            "_model_name": "LabelModel",
            "_view_count": null,
            "_view_module": "@jupyter-widgets/controls",
            "_view_module_version": "1.5.0",
            "_view_name": "LabelView",
            "description": "",
            "description_tooltip": null,
            "layout": "IPY_MODEL_0df4ec17e66b4f4abfeb160e416b00ec",
            "placeholder": "​",
            "style": "IPY_MODEL_3696bd04dfee457a8ebe7102ca65a118",
            "value": "Connecting..."
          }
        },
        "0df4ec17e66b4f4abfeb160e416b00ec": {
          "model_module": "@jupyter-widgets/base",
          "model_name": "LayoutModel",
          "model_module_version": "1.2.0",
          "state": {
            "_model_module": "@jupyter-widgets/base",
            "_model_module_version": "1.2.0",
            "_model_name": "LayoutModel",
            "_view_count": null,
            "_view_module": "@jupyter-widgets/base",
            "_view_module_version": "1.2.0",
            "_view_name": "LayoutView",
            "align_content": null,
            "align_items": null,
            "align_self": null,
            "border": null,
            "bottom": null,
            "display": null,
            "flex": null,
            "flex_flow": null,
            "grid_area": null,
            "grid_auto_columns": null,
            "grid_auto_flow": null,
            "grid_auto_rows": null,
            "grid_column": null,
            "grid_gap": null,
            "grid_row": null,
            "grid_template_areas": null,
            "grid_template_columns": null,
            "grid_template_rows": null,
            "height": null,
            "justify_content": null,
            "justify_items": null,
            "left": null,
            "margin": null,
            "max_height": null,
            "max_width": null,
            "min_height": null,
            "min_width": null,
            "object_fit": null,
            "object_position": null,
            "order": null,
            "overflow": null,
            "overflow_x": null,
            "overflow_y": null,
            "padding": null,
            "right": null,
            "top": null,
            "visibility": null,
            "width": null
          }
        },
        "3696bd04dfee457a8ebe7102ca65a118": {
          "model_module": "@jupyter-widgets/controls",
          "model_name": "DescriptionStyleModel",
          "model_module_version": "1.5.0",
          "state": {
            "_model_module": "@jupyter-widgets/controls",
            "_model_module_version": "1.5.0",
            "_model_name": "DescriptionStyleModel",
            "_view_count": null,
            "_view_module": "@jupyter-widgets/base",
            "_view_module_version": "1.2.0",
            "_view_name": "StyleView",
            "description_width": ""
          }
        },
        "4e2b94e32b4946d68c286b3d1728a70d": {
          "model_module": "@jupyter-widgets/controls",
          "model_name": "LabelModel",
          "model_module_version": "1.5.0",
          "state": {
            "_dom_classes": [],
            "_model_module": "@jupyter-widgets/controls",
            "_model_module_version": "1.5.0",
            "_model_name": "LabelModel",
            "_view_count": null,
            "_view_module": "@jupyter-widgets/controls",
            "_view_module_version": "1.5.0",
            "_view_name": "LabelView",
            "description": "",
            "description_tooltip": null,
            "layout": "IPY_MODEL_9ea35ff886f54a44acea6d6755fd21d3",
            "placeholder": "​",
            "style": "IPY_MODEL_df7acba0f659402787a70b4acb2dd558",
            "value": "Kaggle credentials successfully validated."
          }
        },
        "9ea35ff886f54a44acea6d6755fd21d3": {
          "model_module": "@jupyter-widgets/base",
          "model_name": "LayoutModel",
          "model_module_version": "1.2.0",
          "state": {
            "_model_module": "@jupyter-widgets/base",
            "_model_module_version": "1.2.0",
            "_model_name": "LayoutModel",
            "_view_count": null,
            "_view_module": "@jupyter-widgets/base",
            "_view_module_version": "1.2.0",
            "_view_name": "LayoutView",
            "align_content": null,
            "align_items": null,
            "align_self": null,
            "border": null,
            "bottom": null,
            "display": null,
            "flex": null,
            "flex_flow": null,
            "grid_area": null,
            "grid_auto_columns": null,
            "grid_auto_flow": null,
            "grid_auto_rows": null,
            "grid_column": null,
            "grid_gap": null,
            "grid_row": null,
            "grid_template_areas": null,
            "grid_template_columns": null,
            "grid_template_rows": null,
            "height": null,
            "justify_content": null,
            "justify_items": null,
            "left": null,
            "margin": null,
            "max_height": null,
            "max_width": null,
            "min_height": null,
            "min_width": null,
            "object_fit": null,
            "object_position": null,
            "order": null,
            "overflow": null,
            "overflow_x": null,
            "overflow_y": null,
            "padding": null,
            "right": null,
            "top": null,
            "visibility": null,
            "width": null
          }
        },
        "df7acba0f659402787a70b4acb2dd558": {
          "model_module": "@jupyter-widgets/controls",
          "model_name": "DescriptionStyleModel",
          "model_module_version": "1.5.0",
          "state": {
            "_model_module": "@jupyter-widgets/controls",
            "_model_module_version": "1.5.0",
            "_model_name": "DescriptionStyleModel",
            "_view_count": null,
            "_view_module": "@jupyter-widgets/base",
            "_view_module_version": "1.2.0",
            "_view_name": "StyleView",
            "description_width": ""
          }
        }
      }
    }
  },
  "nbformat_minor": 0,
  "nbformat": 4,
  "cells": [
    {
      "cell_type": "markdown",
      "metadata": {
        "id": "view-in-github",
        "colab_type": "text"
      },
      "source": [
        "<a href=\"https://colab.research.google.com/github/DavidEPP/NLP_disaster_tweet_classifier/blob/main/RNN_for_disaster_tweets.ipynb\" target=\"_parent\"><img src=\"https://colab.research.google.com/assets/colab-badge.svg\" alt=\"Open In Colab\"/></a>"
      ]
    },
    {
      "source": [
        "# IMPORTANT: SOME KAGGLE DATA SOURCES ARE PRIVATE\n",
        "# RUN THIS CELL IN ORDER TO IMPORT YOUR KAGGLE DATA SOURCES.\n",
        "import kagglehub\n",
        "kagglehub.login()\n"
      ],
      "metadata": {
        "id": "n7PKw60zz-Dj",
        "outputId": "237bdbf4-993b-4139-b21c-1d437920c94c",
        "colab": {
          "base_uri": "https://localhost:8080/",
          "height": 86,
          "referenced_widgets": [
            "338498c067f54212bd1bdf292e8fa421",
            "d4efa1b9da3f4cf3a4c7cfdf522a2916",
            "bcb4e16073f648309e1078de0e5fd7fb",
            "f4265f83c5a04e358055edf6cf5c617c",
            "5010570282b64e6fac5bdc7ce3230ce9",
            "247ca77d83394dd28c31c64dc0f8d5a5",
            "d3290bafeac545c2a5c46335feb8f695",
            "84e7263e3cc4490fb0bddce81ebe03d5",
            "d327c11c6823413ebcc82a0d2ac4794a",
            "8a57c2336bde4ba1b86375d616dad27a",
            "1cc0066d5efd4996a7f4cc0857bb09d4",
            "3b9c5ee1347e41e2a43025e6bc926ea4",
            "0763f8eff01c45c3a7825a63647ff02d",
            "8920d2a80f3a44d2863ca5f77461edfd",
            "5449dd10bf7f4424a978b3005cc0b4e0",
            "75512b9787ca4955963aebbfff4d1b87",
            "806be04245964153b23514e7ed2642cd",
            "5292ce0686f749c6b12c3b139bc0ac04",
            "0df4ec17e66b4f4abfeb160e416b00ec",
            "3696bd04dfee457a8ebe7102ca65a118",
            "4e2b94e32b4946d68c286b3d1728a70d",
            "9ea35ff886f54a44acea6d6755fd21d3",
            "df7acba0f659402787a70b4acb2dd558"
          ]
        }
      },
      "cell_type": "code",
      "outputs": [
        {
          "output_type": "display_data",
          "data": {
            "text/plain": [
              "VBox(children=(HTML(value='<center> <img\\nsrc=https://www.kaggle.com/static/images/site-logo.png\\nalt=\\'Kaggle…"
            ],
            "application/vnd.jupyter.widget-view+json": {
              "version_major": 2,
              "version_minor": 0,
              "model_id": "338498c067f54212bd1bdf292e8fa421"
            }
          },
          "metadata": {}
        },
        {
          "output_type": "stream",
          "name": "stdout",
          "text": [
            "Kaggle credentials set.\n",
            "Kaggle credentials successfully validated.\n"
          ]
        }
      ],
      "execution_count": null
    },
    {
      "source": [
        "\n",
        "# IMPORTANT: RUN THIS CELL IN ORDER TO IMPORT YOUR KAGGLE DATA SOURCES,\n",
        "# THEN FEEL FREE TO DELETE THIS CELL.\n",
        "# NOTE: THIS NOTEBOOK ENVIRONMENT DIFFERS FROM KAGGLE'S PYTHON\n",
        "# ENVIRONMENT SO THERE MAY BE MISSING LIBRARIES USED BY YOUR\n",
        "# NOTEBOOK.\n",
        "\n",
        "nlp_getting_started_path = kagglehub.competition_download('nlp-getting-started')\n",
        "\n",
        "print('Data source import complete.')\n"
      ],
      "metadata": {
        "id": "JtfOcrYkz-Dl",
        "outputId": "2d114b65-804d-4a12-f31e-ff035561c7f7",
        "colab": {
          "base_uri": "https://localhost:8080/"
        }
      },
      "cell_type": "code",
      "outputs": [
        {
          "output_type": "stream",
          "name": "stdout",
          "text": [
            "Downloading from https://www.kaggle.com/api/v1/competitions/data/download-all/nlp-getting-started...\n"
          ]
        },
        {
          "output_type": "stream",
          "name": "stderr",
          "text": [
            "100%|██████████| 593k/593k [00:00<00:00, 1.34MB/s]"
          ]
        },
        {
          "output_type": "stream",
          "name": "stdout",
          "text": [
            "Extracting files...\n",
            "Data source import complete.\n"
          ]
        },
        {
          "output_type": "stream",
          "name": "stderr",
          "text": [
            "\n"
          ]
        }
      ],
      "execution_count": null
    },
    {
      "cell_type": "markdown",
      "source": [
        "<center><img src=\"https://keras.io/img/logo-small.png\" alt=\"Keras logo\" width=\"100\"><br/>\n",
        "This starter notebook is provided by the Keras team.</center>\n",
        "\n",
        "## Keras NLP starter guide here: https://keras.io/guides/keras_nlp/getting_started/\n",
        "\n",
        "In this competition, the challenge is to build a machine learning model that predicts which Tweets are about real disasters and which one’s aren’t.\n",
        "A dataset of 10,000 tweets that were hand classified is available.\n",
        "\n",
        "__This starter notebook uses the [DistilBERT](https://arxiv.org/abs/1910.01108) pretrained model from KerasNLP.__\n",
        "\n",
        "\n",
        "**BERT** stands for **Bidirectional Encoder Representations from Transformers**. BERT and other Transformer encoder architectures have been wildly successful on a variety of tasks in NLP (natural language processing). They compute vector-space representations of natural language that are suitable for use in deep learning models.\n",
        "\n",
        "The BERT family of models uses the **Transformer encoder architecture** to process each token of input text in the full context of all tokens before and after, hence the name: Bidirectional Encoder Representations from Transformers.\n",
        "\n",
        "BERT models are usually pre-trained on a large corpus of text, then fine-tuned for specific tasks.\n",
        "\n",
        "**DistilBERT model** is a distilled form of the **BERT** model. The size of a BERT model was reduced by 40% via knowledge distillation during the pre-training phase while retaining 97% of its language understanding abilities and being 60% faster.\n",
        "\n",
        "\n",
        "\n",
        "![BERT Architecture](https://www.cse.chalmers.se/~richajo/nlp2019/l5/bert_class.png)\n",
        "\n",
        "\n",
        "\n",
        "In this notebook, you will:\n",
        "\n",
        "- Load the Disaster Tweets\n",
        "- Explore the dataset\n",
        "- Preprocess the data\n",
        "- Load a DistilBERT model from Keras NLP\n",
        "- Train your own model, fine-tuning BERT\n",
        "- Generate the submission file\n"
      ],
      "metadata": {
        "id": "znmdTeBtz-Dm"
      }
    },
    {
      "cell_type": "code",
      "source": [
        "import os\n",
        "import numpy as np\n",
        "import pandas as pd\n",
        "import pickle\n",
        "import multiprocessing as mp\n",
        "import matplotlib.pyplot as plt\n",
        "import matplotlib.image as mpimg\n",
        "from sklearn.model_selection import train_test_split\n",
        "import tensorflow as tf\n",
        "from tensorflow.keras.models import Sequential\n",
        "from tensorflow.keras.layers import Dense, Conv2D, Flatten, MaxPooling2D, Dropout, BatchNormalization\n",
        "from tensorflow.keras.optimizers import Adam\n",
        "from tensorflow.keras.preprocessing.image import ImageDataGenerator\n",
        "from tensorflow.keras.utils import to_categorical\n",
        "from tensorflow.keras.callbacks import EarlyStopping\n",
        "from tensorflow.keras.metrics import AUC\n",
        "from tensorflow.keras.callbacks import Callback, EarlyStopping, ReduceLROnPlateau\n",
        "from sklearn.metrics import ConfusionMatrixDisplay, confusion_matrix\n",
        "import seaborn as sns"
      ],
      "metadata": {
        "_uuid": "8f2839f25d086af736a60e9eeb907d3b93b6e0e5",
        "_cell_guid": "b1076dfc-b9ad-4769-8c92-a6c4dae69d19",
        "execution": {
          "iopub.status.busy": "2025-01-28T14:56:52.877579Z",
          "iopub.execute_input": "2025-01-28T14:56:52.877945Z",
          "iopub.status.idle": "2025-01-28T14:56:53.227167Z",
          "shell.execute_reply.started": "2025-01-28T14:56:52.877918Z",
          "shell.execute_reply": "2025-01-28T14:56:53.225889Z"
        },
        "trusted": true,
        "id": "OXdG799Fz-Do"
      },
      "outputs": [],
      "execution_count": null
    },
    {
      "cell_type": "markdown",
      "source": [
        "# Load the Disaster Tweets\n",
        "Let's have a look at the train and test dataset.\n",
        "\n",
        "They contain:\n",
        "- id\n",
        "- keyword: A keyword from that tweet (although this may be blank!)\n",
        "- location: The location the tweet was sent from (may also be blank)\n",
        "- text: The text of a tweet\n",
        "- target: 1 if the tweet is a real disaster or 0 if not"
      ],
      "metadata": {
        "id": "mgiuK4fEz-Dr"
      }
    },
    {
      "cell_type": "code",
      "source": [
        "print (f\"The data is loaded to {nlp_getting_started_path}\")\n",
        "df_train = pd.read_csv(f\"{nlp_getting_started_path}/train.csv\")\n",
        "df_test = pd.read_csv(f\"{nlp_getting_started_path}/test.csv\")\n",
        "\n",
        "print('Training Set Shape = {}'.format(df_train.shape))\n",
        "print('Training Set Memory Usage = {:.2f} MB'.format(df_train.memory_usage().sum() / 1024**2))\n",
        "print('Test Set Shape = {}'.format(df_test.shape))\n",
        "print('Test Set Memory Usage = {:.2f} MB'.format(df_test.memory_usage().sum() / 1024**2))"
      ],
      "metadata": {
        "execution": {
          "iopub.status.busy": "2025-01-28T14:56:53.229437Z",
          "iopub.execute_input": "2025-01-28T14:56:53.230607Z",
          "iopub.status.idle": "2025-01-28T14:56:53.311001Z",
          "shell.execute_reply.started": "2025-01-28T14:56:53.230568Z",
          "shell.execute_reply": "2025-01-28T14:56:53.309826Z"
        },
        "trusted": true,
        "colab": {
          "base_uri": "https://localhost:8080/"
        },
        "outputId": "be70077a-47fd-4136-a8dc-1919720ea51e",
        "id": "phLAefDQ8liL"
      },
      "outputs": [
        {
          "output_type": "stream",
          "name": "stdout",
          "text": [
            "The data is loaded to /root/.cache/kagglehub/competitions/nlp-getting-started\n",
            "Training Set Shape = (7613, 5)\n",
            "Training Set Memory Usage = 0.29 MB\n",
            "Test Set Shape = (3263, 4)\n",
            "Test Set Memory Usage = 0.10 MB\n"
          ]
        }
      ],
      "execution_count": null
    },
    {
      "cell_type": "code",
      "source": [
        "df_train.head()"
      ],
      "metadata": {
        "execution": {
          "iopub.status.busy": "2025-01-28T14:56:53.312299Z",
          "iopub.execute_input": "2025-01-28T14:56:53.312704Z",
          "iopub.status.idle": "2025-01-28T14:56:53.330057Z",
          "shell.execute_reply.started": "2025-01-28T14:56:53.312667Z",
          "shell.execute_reply": "2025-01-28T14:56:53.32859Z"
        },
        "trusted": true,
        "id": "F1Ec6YbXz-Du",
        "outputId": "d6084dfa-0665-40d7-8825-00dffaeea613",
        "colab": {
          "base_uri": "https://localhost:8080/",
          "height": 206
        }
      },
      "outputs": [
        {
          "output_type": "execute_result",
          "data": {
            "text/plain": [
              "   id keyword location                                               text  \\\n",
              "0   1     NaN      NaN  Our Deeds are the Reason of this #earthquake M...   \n",
              "1   4     NaN      NaN             Forest fire near La Ronge Sask. Canada   \n",
              "2   5     NaN      NaN  All residents asked to 'shelter in place' are ...   \n",
              "3   6     NaN      NaN  13,000 people receive #wildfires evacuation or...   \n",
              "4   7     NaN      NaN  Just got sent this photo from Ruby #Alaska as ...   \n",
              "\n",
              "   target  \n",
              "0       1  \n",
              "1       1  \n",
              "2       1  \n",
              "3       1  \n",
              "4       1  "
            ],
            "text/html": [
              "\n",
              "  <div id=\"df-1a0e469b-8813-452d-af04-fcad9968c75d\" class=\"colab-df-container\">\n",
              "    <div>\n",
              "<style scoped>\n",
              "    .dataframe tbody tr th:only-of-type {\n",
              "        vertical-align: middle;\n",
              "    }\n",
              "\n",
              "    .dataframe tbody tr th {\n",
              "        vertical-align: top;\n",
              "    }\n",
              "\n",
              "    .dataframe thead th {\n",
              "        text-align: right;\n",
              "    }\n",
              "</style>\n",
              "<table border=\"1\" class=\"dataframe\">\n",
              "  <thead>\n",
              "    <tr style=\"text-align: right;\">\n",
              "      <th></th>\n",
              "      <th>id</th>\n",
              "      <th>keyword</th>\n",
              "      <th>location</th>\n",
              "      <th>text</th>\n",
              "      <th>target</th>\n",
              "    </tr>\n",
              "  </thead>\n",
              "  <tbody>\n",
              "    <tr>\n",
              "      <th>0</th>\n",
              "      <td>1</td>\n",
              "      <td>NaN</td>\n",
              "      <td>NaN</td>\n",
              "      <td>Our Deeds are the Reason of this #earthquake M...</td>\n",
              "      <td>1</td>\n",
              "    </tr>\n",
              "    <tr>\n",
              "      <th>1</th>\n",
              "      <td>4</td>\n",
              "      <td>NaN</td>\n",
              "      <td>NaN</td>\n",
              "      <td>Forest fire near La Ronge Sask. Canada</td>\n",
              "      <td>1</td>\n",
              "    </tr>\n",
              "    <tr>\n",
              "      <th>2</th>\n",
              "      <td>5</td>\n",
              "      <td>NaN</td>\n",
              "      <td>NaN</td>\n",
              "      <td>All residents asked to 'shelter in place' are ...</td>\n",
              "      <td>1</td>\n",
              "    </tr>\n",
              "    <tr>\n",
              "      <th>3</th>\n",
              "      <td>6</td>\n",
              "      <td>NaN</td>\n",
              "      <td>NaN</td>\n",
              "      <td>13,000 people receive #wildfires evacuation or...</td>\n",
              "      <td>1</td>\n",
              "    </tr>\n",
              "    <tr>\n",
              "      <th>4</th>\n",
              "      <td>7</td>\n",
              "      <td>NaN</td>\n",
              "      <td>NaN</td>\n",
              "      <td>Just got sent this photo from Ruby #Alaska as ...</td>\n",
              "      <td>1</td>\n",
              "    </tr>\n",
              "  </tbody>\n",
              "</table>\n",
              "</div>\n",
              "    <div class=\"colab-df-buttons\">\n",
              "\n",
              "  <div class=\"colab-df-container\">\n",
              "    <button class=\"colab-df-convert\" onclick=\"convertToInteractive('df-1a0e469b-8813-452d-af04-fcad9968c75d')\"\n",
              "            title=\"Convert this dataframe to an interactive table.\"\n",
              "            style=\"display:none;\">\n",
              "\n",
              "  <svg xmlns=\"http://www.w3.org/2000/svg\" height=\"24px\" viewBox=\"0 -960 960 960\">\n",
              "    <path d=\"M120-120v-720h720v720H120Zm60-500h600v-160H180v160Zm220 220h160v-160H400v160Zm0 220h160v-160H400v160ZM180-400h160v-160H180v160Zm440 0h160v-160H620v160ZM180-180h160v-160H180v160Zm440 0h160v-160H620v160Z\"/>\n",
              "  </svg>\n",
              "    </button>\n",
              "\n",
              "  <style>\n",
              "    .colab-df-container {\n",
              "      display:flex;\n",
              "      gap: 12px;\n",
              "    }\n",
              "\n",
              "    .colab-df-convert {\n",
              "      background-color: #E8F0FE;\n",
              "      border: none;\n",
              "      border-radius: 50%;\n",
              "      cursor: pointer;\n",
              "      display: none;\n",
              "      fill: #1967D2;\n",
              "      height: 32px;\n",
              "      padding: 0 0 0 0;\n",
              "      width: 32px;\n",
              "    }\n",
              "\n",
              "    .colab-df-convert:hover {\n",
              "      background-color: #E2EBFA;\n",
              "      box-shadow: 0px 1px 2px rgba(60, 64, 67, 0.3), 0px 1px 3px 1px rgba(60, 64, 67, 0.15);\n",
              "      fill: #174EA6;\n",
              "    }\n",
              "\n",
              "    .colab-df-buttons div {\n",
              "      margin-bottom: 4px;\n",
              "    }\n",
              "\n",
              "    [theme=dark] .colab-df-convert {\n",
              "      background-color: #3B4455;\n",
              "      fill: #D2E3FC;\n",
              "    }\n",
              "\n",
              "    [theme=dark] .colab-df-convert:hover {\n",
              "      background-color: #434B5C;\n",
              "      box-shadow: 0px 1px 3px 1px rgba(0, 0, 0, 0.15);\n",
              "      filter: drop-shadow(0px 1px 2px rgba(0, 0, 0, 0.3));\n",
              "      fill: #FFFFFF;\n",
              "    }\n",
              "  </style>\n",
              "\n",
              "    <script>\n",
              "      const buttonEl =\n",
              "        document.querySelector('#df-1a0e469b-8813-452d-af04-fcad9968c75d button.colab-df-convert');\n",
              "      buttonEl.style.display =\n",
              "        google.colab.kernel.accessAllowed ? 'block' : 'none';\n",
              "\n",
              "      async function convertToInteractive(key) {\n",
              "        const element = document.querySelector('#df-1a0e469b-8813-452d-af04-fcad9968c75d');\n",
              "        const dataTable =\n",
              "          await google.colab.kernel.invokeFunction('convertToInteractive',\n",
              "                                                    [key], {});\n",
              "        if (!dataTable) return;\n",
              "\n",
              "        const docLinkHtml = 'Like what you see? Visit the ' +\n",
              "          '<a target=\"_blank\" href=https://colab.research.google.com/notebooks/data_table.ipynb>data table notebook</a>'\n",
              "          + ' to learn more about interactive tables.';\n",
              "        element.innerHTML = '';\n",
              "        dataTable['output_type'] = 'display_data';\n",
              "        await google.colab.output.renderOutput(dataTable, element);\n",
              "        const docLink = document.createElement('div');\n",
              "        docLink.innerHTML = docLinkHtml;\n",
              "        element.appendChild(docLink);\n",
              "      }\n",
              "    </script>\n",
              "  </div>\n",
              "\n",
              "\n",
              "<div id=\"df-c2158227-6c34-47d4-8cd5-e1281cf40395\">\n",
              "  <button class=\"colab-df-quickchart\" onclick=\"quickchart('df-c2158227-6c34-47d4-8cd5-e1281cf40395')\"\n",
              "            title=\"Suggest charts\"\n",
              "            style=\"display:none;\">\n",
              "\n",
              "<svg xmlns=\"http://www.w3.org/2000/svg\" height=\"24px\"viewBox=\"0 0 24 24\"\n",
              "     width=\"24px\">\n",
              "    <g>\n",
              "        <path d=\"M19 3H5c-1.1 0-2 .9-2 2v14c0 1.1.9 2 2 2h14c1.1 0 2-.9 2-2V5c0-1.1-.9-2-2-2zM9 17H7v-7h2v7zm4 0h-2V7h2v10zm4 0h-2v-4h2v4z\"/>\n",
              "    </g>\n",
              "</svg>\n",
              "  </button>\n",
              "\n",
              "<style>\n",
              "  .colab-df-quickchart {\n",
              "      --bg-color: #E8F0FE;\n",
              "      --fill-color: #1967D2;\n",
              "      --hover-bg-color: #E2EBFA;\n",
              "      --hover-fill-color: #174EA6;\n",
              "      --disabled-fill-color: #AAA;\n",
              "      --disabled-bg-color: #DDD;\n",
              "  }\n",
              "\n",
              "  [theme=dark] .colab-df-quickchart {\n",
              "      --bg-color: #3B4455;\n",
              "      --fill-color: #D2E3FC;\n",
              "      --hover-bg-color: #434B5C;\n",
              "      --hover-fill-color: #FFFFFF;\n",
              "      --disabled-bg-color: #3B4455;\n",
              "      --disabled-fill-color: #666;\n",
              "  }\n",
              "\n",
              "  .colab-df-quickchart {\n",
              "    background-color: var(--bg-color);\n",
              "    border: none;\n",
              "    border-radius: 50%;\n",
              "    cursor: pointer;\n",
              "    display: none;\n",
              "    fill: var(--fill-color);\n",
              "    height: 32px;\n",
              "    padding: 0;\n",
              "    width: 32px;\n",
              "  }\n",
              "\n",
              "  .colab-df-quickchart:hover {\n",
              "    background-color: var(--hover-bg-color);\n",
              "    box-shadow: 0 1px 2px rgba(60, 64, 67, 0.3), 0 1px 3px 1px rgba(60, 64, 67, 0.15);\n",
              "    fill: var(--button-hover-fill-color);\n",
              "  }\n",
              "\n",
              "  .colab-df-quickchart-complete:disabled,\n",
              "  .colab-df-quickchart-complete:disabled:hover {\n",
              "    background-color: var(--disabled-bg-color);\n",
              "    fill: var(--disabled-fill-color);\n",
              "    box-shadow: none;\n",
              "  }\n",
              "\n",
              "  .colab-df-spinner {\n",
              "    border: 2px solid var(--fill-color);\n",
              "    border-color: transparent;\n",
              "    border-bottom-color: var(--fill-color);\n",
              "    animation:\n",
              "      spin 1s steps(1) infinite;\n",
              "  }\n",
              "\n",
              "  @keyframes spin {\n",
              "    0% {\n",
              "      border-color: transparent;\n",
              "      border-bottom-color: var(--fill-color);\n",
              "      border-left-color: var(--fill-color);\n",
              "    }\n",
              "    20% {\n",
              "      border-color: transparent;\n",
              "      border-left-color: var(--fill-color);\n",
              "      border-top-color: var(--fill-color);\n",
              "    }\n",
              "    30% {\n",
              "      border-color: transparent;\n",
              "      border-left-color: var(--fill-color);\n",
              "      border-top-color: var(--fill-color);\n",
              "      border-right-color: var(--fill-color);\n",
              "    }\n",
              "    40% {\n",
              "      border-color: transparent;\n",
              "      border-right-color: var(--fill-color);\n",
              "      border-top-color: var(--fill-color);\n",
              "    }\n",
              "    60% {\n",
              "      border-color: transparent;\n",
              "      border-right-color: var(--fill-color);\n",
              "    }\n",
              "    80% {\n",
              "      border-color: transparent;\n",
              "      border-right-color: var(--fill-color);\n",
              "      border-bottom-color: var(--fill-color);\n",
              "    }\n",
              "    90% {\n",
              "      border-color: transparent;\n",
              "      border-bottom-color: var(--fill-color);\n",
              "    }\n",
              "  }\n",
              "</style>\n",
              "\n",
              "  <script>\n",
              "    async function quickchart(key) {\n",
              "      const quickchartButtonEl =\n",
              "        document.querySelector('#' + key + ' button');\n",
              "      quickchartButtonEl.disabled = true;  // To prevent multiple clicks.\n",
              "      quickchartButtonEl.classList.add('colab-df-spinner');\n",
              "      try {\n",
              "        const charts = await google.colab.kernel.invokeFunction(\n",
              "            'suggestCharts', [key], {});\n",
              "      } catch (error) {\n",
              "        console.error('Error during call to suggestCharts:', error);\n",
              "      }\n",
              "      quickchartButtonEl.classList.remove('colab-df-spinner');\n",
              "      quickchartButtonEl.classList.add('colab-df-quickchart-complete');\n",
              "    }\n",
              "    (() => {\n",
              "      let quickchartButtonEl =\n",
              "        document.querySelector('#df-c2158227-6c34-47d4-8cd5-e1281cf40395 button');\n",
              "      quickchartButtonEl.style.display =\n",
              "        google.colab.kernel.accessAllowed ? 'block' : 'none';\n",
              "    })();\n",
              "  </script>\n",
              "</div>\n",
              "\n",
              "    </div>\n",
              "  </div>\n"
            ],
            "application/vnd.google.colaboratory.intrinsic+json": {
              "type": "dataframe",
              "variable_name": "df_train",
              "summary": "{\n  \"name\": \"df_train\",\n  \"rows\": 7613,\n  \"fields\": [\n    {\n      \"column\": \"id\",\n      \"properties\": {\n        \"dtype\": \"number\",\n        \"std\": 3137,\n        \"min\": 1,\n        \"max\": 10873,\n        \"num_unique_values\": 7613,\n        \"samples\": [\n          3796,\n          3185,\n          7769\n        ],\n        \"semantic_type\": \"\",\n        \"description\": \"\"\n      }\n    },\n    {\n      \"column\": \"keyword\",\n      \"properties\": {\n        \"dtype\": \"category\",\n        \"num_unique_values\": 221,\n        \"samples\": [\n          \"injury\",\n          \"nuclear%20reactor\",\n          \"engulfed\"\n        ],\n        \"semantic_type\": \"\",\n        \"description\": \"\"\n      }\n    },\n    {\n      \"column\": \"location\",\n      \"properties\": {\n        \"dtype\": \"category\",\n        \"num_unique_values\": 3341,\n        \"samples\": [\n          \"Oklahoma\",\n          \"Starling City\",\n          \"Trinidad and Tobago\"\n        ],\n        \"semantic_type\": \"\",\n        \"description\": \"\"\n      }\n    },\n    {\n      \"column\": \"text\",\n      \"properties\": {\n        \"dtype\": \"string\",\n        \"num_unique_values\": 7503,\n        \"samples\": [\n          \"Three Homes Demolished in Unrecognized Arab Village - International Middle East Media Center http://t.co/ik8m4Yi9T4\",\n          \"Reid Lake fire prompts campground evacuation order http://t.co/jBODKM6rBU\",\n          \"FAAN orders evacuation of abandoned aircraft at MMA http://t.co/dEvYbnVXGQ via @todayng\"\n        ],\n        \"semantic_type\": \"\",\n        \"description\": \"\"\n      }\n    },\n    {\n      \"column\": \"target\",\n      \"properties\": {\n        \"dtype\": \"number\",\n        \"std\": 0,\n        \"min\": 0,\n        \"max\": 1,\n        \"num_unique_values\": 2,\n        \"samples\": [\n          0,\n          1\n        ],\n        \"semantic_type\": \"\",\n        \"description\": \"\"\n      }\n    }\n  ]\n}"
            }
          },
          "metadata": {},
          "execution_count": 12
        }
      ],
      "execution_count": null
    },
    {
      "cell_type": "code",
      "source": [
        "df_test.head()"
      ],
      "metadata": {
        "execution": {
          "iopub.status.busy": "2025-01-28T14:56:53.332266Z",
          "iopub.execute_input": "2025-01-28T14:56:53.332618Z",
          "iopub.status.idle": "2025-01-28T14:56:53.343044Z",
          "shell.execute_reply.started": "2025-01-28T14:56:53.33259Z",
          "shell.execute_reply": "2025-01-28T14:56:53.341911Z"
        },
        "trusted": true,
        "id": "9z5zIwuaz-Dw",
        "outputId": "8cb7842d-29c2-4162-f3c4-643c81468ab0",
        "colab": {
          "base_uri": "https://localhost:8080/",
          "height": 206
        }
      },
      "outputs": [
        {
          "output_type": "execute_result",
          "data": {
            "text/plain": [
              "   id keyword location                                               text\n",
              "0   0     NaN      NaN                 Just happened a terrible car crash\n",
              "1   2     NaN      NaN  Heard about #earthquake is different cities, s...\n",
              "2   3     NaN      NaN  there is a forest fire at spot pond, geese are...\n",
              "3   9     NaN      NaN           Apocalypse lighting. #Spokane #wildfires\n",
              "4  11     NaN      NaN      Typhoon Soudelor kills 28 in China and Taiwan"
            ],
            "text/html": [
              "\n",
              "  <div id=\"df-81ec8ee9-0863-4585-8c4a-e514ecadc331\" class=\"colab-df-container\">\n",
              "    <div>\n",
              "<style scoped>\n",
              "    .dataframe tbody tr th:only-of-type {\n",
              "        vertical-align: middle;\n",
              "    }\n",
              "\n",
              "    .dataframe tbody tr th {\n",
              "        vertical-align: top;\n",
              "    }\n",
              "\n",
              "    .dataframe thead th {\n",
              "        text-align: right;\n",
              "    }\n",
              "</style>\n",
              "<table border=\"1\" class=\"dataframe\">\n",
              "  <thead>\n",
              "    <tr style=\"text-align: right;\">\n",
              "      <th></th>\n",
              "      <th>id</th>\n",
              "      <th>keyword</th>\n",
              "      <th>location</th>\n",
              "      <th>text</th>\n",
              "    </tr>\n",
              "  </thead>\n",
              "  <tbody>\n",
              "    <tr>\n",
              "      <th>0</th>\n",
              "      <td>0</td>\n",
              "      <td>NaN</td>\n",
              "      <td>NaN</td>\n",
              "      <td>Just happened a terrible car crash</td>\n",
              "    </tr>\n",
              "    <tr>\n",
              "      <th>1</th>\n",
              "      <td>2</td>\n",
              "      <td>NaN</td>\n",
              "      <td>NaN</td>\n",
              "      <td>Heard about #earthquake is different cities, s...</td>\n",
              "    </tr>\n",
              "    <tr>\n",
              "      <th>2</th>\n",
              "      <td>3</td>\n",
              "      <td>NaN</td>\n",
              "      <td>NaN</td>\n",
              "      <td>there is a forest fire at spot pond, geese are...</td>\n",
              "    </tr>\n",
              "    <tr>\n",
              "      <th>3</th>\n",
              "      <td>9</td>\n",
              "      <td>NaN</td>\n",
              "      <td>NaN</td>\n",
              "      <td>Apocalypse lighting. #Spokane #wildfires</td>\n",
              "    </tr>\n",
              "    <tr>\n",
              "      <th>4</th>\n",
              "      <td>11</td>\n",
              "      <td>NaN</td>\n",
              "      <td>NaN</td>\n",
              "      <td>Typhoon Soudelor kills 28 in China and Taiwan</td>\n",
              "    </tr>\n",
              "  </tbody>\n",
              "</table>\n",
              "</div>\n",
              "    <div class=\"colab-df-buttons\">\n",
              "\n",
              "  <div class=\"colab-df-container\">\n",
              "    <button class=\"colab-df-convert\" onclick=\"convertToInteractive('df-81ec8ee9-0863-4585-8c4a-e514ecadc331')\"\n",
              "            title=\"Convert this dataframe to an interactive table.\"\n",
              "            style=\"display:none;\">\n",
              "\n",
              "  <svg xmlns=\"http://www.w3.org/2000/svg\" height=\"24px\" viewBox=\"0 -960 960 960\">\n",
              "    <path d=\"M120-120v-720h720v720H120Zm60-500h600v-160H180v160Zm220 220h160v-160H400v160Zm0 220h160v-160H400v160ZM180-400h160v-160H180v160Zm440 0h160v-160H620v160ZM180-180h160v-160H180v160Zm440 0h160v-160H620v160Z\"/>\n",
              "  </svg>\n",
              "    </button>\n",
              "\n",
              "  <style>\n",
              "    .colab-df-container {\n",
              "      display:flex;\n",
              "      gap: 12px;\n",
              "    }\n",
              "\n",
              "    .colab-df-convert {\n",
              "      background-color: #E8F0FE;\n",
              "      border: none;\n",
              "      border-radius: 50%;\n",
              "      cursor: pointer;\n",
              "      display: none;\n",
              "      fill: #1967D2;\n",
              "      height: 32px;\n",
              "      padding: 0 0 0 0;\n",
              "      width: 32px;\n",
              "    }\n",
              "\n",
              "    .colab-df-convert:hover {\n",
              "      background-color: #E2EBFA;\n",
              "      box-shadow: 0px 1px 2px rgba(60, 64, 67, 0.3), 0px 1px 3px 1px rgba(60, 64, 67, 0.15);\n",
              "      fill: #174EA6;\n",
              "    }\n",
              "\n",
              "    .colab-df-buttons div {\n",
              "      margin-bottom: 4px;\n",
              "    }\n",
              "\n",
              "    [theme=dark] .colab-df-convert {\n",
              "      background-color: #3B4455;\n",
              "      fill: #D2E3FC;\n",
              "    }\n",
              "\n",
              "    [theme=dark] .colab-df-convert:hover {\n",
              "      background-color: #434B5C;\n",
              "      box-shadow: 0px 1px 3px 1px rgba(0, 0, 0, 0.15);\n",
              "      filter: drop-shadow(0px 1px 2px rgba(0, 0, 0, 0.3));\n",
              "      fill: #FFFFFF;\n",
              "    }\n",
              "  </style>\n",
              "\n",
              "    <script>\n",
              "      const buttonEl =\n",
              "        document.querySelector('#df-81ec8ee9-0863-4585-8c4a-e514ecadc331 button.colab-df-convert');\n",
              "      buttonEl.style.display =\n",
              "        google.colab.kernel.accessAllowed ? 'block' : 'none';\n",
              "\n",
              "      async function convertToInteractive(key) {\n",
              "        const element = document.querySelector('#df-81ec8ee9-0863-4585-8c4a-e514ecadc331');\n",
              "        const dataTable =\n",
              "          await google.colab.kernel.invokeFunction('convertToInteractive',\n",
              "                                                    [key], {});\n",
              "        if (!dataTable) return;\n",
              "\n",
              "        const docLinkHtml = 'Like what you see? Visit the ' +\n",
              "          '<a target=\"_blank\" href=https://colab.research.google.com/notebooks/data_table.ipynb>data table notebook</a>'\n",
              "          + ' to learn more about interactive tables.';\n",
              "        element.innerHTML = '';\n",
              "        dataTable['output_type'] = 'display_data';\n",
              "        await google.colab.output.renderOutput(dataTable, element);\n",
              "        const docLink = document.createElement('div');\n",
              "        docLink.innerHTML = docLinkHtml;\n",
              "        element.appendChild(docLink);\n",
              "      }\n",
              "    </script>\n",
              "  </div>\n",
              "\n",
              "\n",
              "<div id=\"df-07ab5e32-96af-488e-9b2c-b5246d149f43\">\n",
              "  <button class=\"colab-df-quickchart\" onclick=\"quickchart('df-07ab5e32-96af-488e-9b2c-b5246d149f43')\"\n",
              "            title=\"Suggest charts\"\n",
              "            style=\"display:none;\">\n",
              "\n",
              "<svg xmlns=\"http://www.w3.org/2000/svg\" height=\"24px\"viewBox=\"0 0 24 24\"\n",
              "     width=\"24px\">\n",
              "    <g>\n",
              "        <path d=\"M19 3H5c-1.1 0-2 .9-2 2v14c0 1.1.9 2 2 2h14c1.1 0 2-.9 2-2V5c0-1.1-.9-2-2-2zM9 17H7v-7h2v7zm4 0h-2V7h2v10zm4 0h-2v-4h2v4z\"/>\n",
              "    </g>\n",
              "</svg>\n",
              "  </button>\n",
              "\n",
              "<style>\n",
              "  .colab-df-quickchart {\n",
              "      --bg-color: #E8F0FE;\n",
              "      --fill-color: #1967D2;\n",
              "      --hover-bg-color: #E2EBFA;\n",
              "      --hover-fill-color: #174EA6;\n",
              "      --disabled-fill-color: #AAA;\n",
              "      --disabled-bg-color: #DDD;\n",
              "  }\n",
              "\n",
              "  [theme=dark] .colab-df-quickchart {\n",
              "      --bg-color: #3B4455;\n",
              "      --fill-color: #D2E3FC;\n",
              "      --hover-bg-color: #434B5C;\n",
              "      --hover-fill-color: #FFFFFF;\n",
              "      --disabled-bg-color: #3B4455;\n",
              "      --disabled-fill-color: #666;\n",
              "  }\n",
              "\n",
              "  .colab-df-quickchart {\n",
              "    background-color: var(--bg-color);\n",
              "    border: none;\n",
              "    border-radius: 50%;\n",
              "    cursor: pointer;\n",
              "    display: none;\n",
              "    fill: var(--fill-color);\n",
              "    height: 32px;\n",
              "    padding: 0;\n",
              "    width: 32px;\n",
              "  }\n",
              "\n",
              "  .colab-df-quickchart:hover {\n",
              "    background-color: var(--hover-bg-color);\n",
              "    box-shadow: 0 1px 2px rgba(60, 64, 67, 0.3), 0 1px 3px 1px rgba(60, 64, 67, 0.15);\n",
              "    fill: var(--button-hover-fill-color);\n",
              "  }\n",
              "\n",
              "  .colab-df-quickchart-complete:disabled,\n",
              "  .colab-df-quickchart-complete:disabled:hover {\n",
              "    background-color: var(--disabled-bg-color);\n",
              "    fill: var(--disabled-fill-color);\n",
              "    box-shadow: none;\n",
              "  }\n",
              "\n",
              "  .colab-df-spinner {\n",
              "    border: 2px solid var(--fill-color);\n",
              "    border-color: transparent;\n",
              "    border-bottom-color: var(--fill-color);\n",
              "    animation:\n",
              "      spin 1s steps(1) infinite;\n",
              "  }\n",
              "\n",
              "  @keyframes spin {\n",
              "    0% {\n",
              "      border-color: transparent;\n",
              "      border-bottom-color: var(--fill-color);\n",
              "      border-left-color: var(--fill-color);\n",
              "    }\n",
              "    20% {\n",
              "      border-color: transparent;\n",
              "      border-left-color: var(--fill-color);\n",
              "      border-top-color: var(--fill-color);\n",
              "    }\n",
              "    30% {\n",
              "      border-color: transparent;\n",
              "      border-left-color: var(--fill-color);\n",
              "      border-top-color: var(--fill-color);\n",
              "      border-right-color: var(--fill-color);\n",
              "    }\n",
              "    40% {\n",
              "      border-color: transparent;\n",
              "      border-right-color: var(--fill-color);\n",
              "      border-top-color: var(--fill-color);\n",
              "    }\n",
              "    60% {\n",
              "      border-color: transparent;\n",
              "      border-right-color: var(--fill-color);\n",
              "    }\n",
              "    80% {\n",
              "      border-color: transparent;\n",
              "      border-right-color: var(--fill-color);\n",
              "      border-bottom-color: var(--fill-color);\n",
              "    }\n",
              "    90% {\n",
              "      border-color: transparent;\n",
              "      border-bottom-color: var(--fill-color);\n",
              "    }\n",
              "  }\n",
              "</style>\n",
              "\n",
              "  <script>\n",
              "    async function quickchart(key) {\n",
              "      const quickchartButtonEl =\n",
              "        document.querySelector('#' + key + ' button');\n",
              "      quickchartButtonEl.disabled = true;  // To prevent multiple clicks.\n",
              "      quickchartButtonEl.classList.add('colab-df-spinner');\n",
              "      try {\n",
              "        const charts = await google.colab.kernel.invokeFunction(\n",
              "            'suggestCharts', [key], {});\n",
              "      } catch (error) {\n",
              "        console.error('Error during call to suggestCharts:', error);\n",
              "      }\n",
              "      quickchartButtonEl.classList.remove('colab-df-spinner');\n",
              "      quickchartButtonEl.classList.add('colab-df-quickchart-complete');\n",
              "    }\n",
              "    (() => {\n",
              "      let quickchartButtonEl =\n",
              "        document.querySelector('#df-07ab5e32-96af-488e-9b2c-b5246d149f43 button');\n",
              "      quickchartButtonEl.style.display =\n",
              "        google.colab.kernel.accessAllowed ? 'block' : 'none';\n",
              "    })();\n",
              "  </script>\n",
              "</div>\n",
              "\n",
              "    </div>\n",
              "  </div>\n"
            ],
            "application/vnd.google.colaboratory.intrinsic+json": {
              "type": "dataframe",
              "variable_name": "df_test",
              "summary": "{\n  \"name\": \"df_test\",\n  \"rows\": 3263,\n  \"fields\": [\n    {\n      \"column\": \"id\",\n      \"properties\": {\n        \"dtype\": \"number\",\n        \"std\": 3146,\n        \"min\": 0,\n        \"max\": 10875,\n        \"num_unique_values\": 3263,\n        \"samples\": [\n          8051,\n          425,\n          1330\n        ],\n        \"semantic_type\": \"\",\n        \"description\": \"\"\n      }\n    },\n    {\n      \"column\": \"keyword\",\n      \"properties\": {\n        \"dtype\": \"category\",\n        \"num_unique_values\": 221,\n        \"samples\": [\n          \"injury\",\n          \"nuclear%20reactor\",\n          \"engulfed\"\n        ],\n        \"semantic_type\": \"\",\n        \"description\": \"\"\n      }\n    },\n    {\n      \"column\": \"location\",\n      \"properties\": {\n        \"dtype\": \"category\",\n        \"num_unique_values\": 1602,\n        \"samples\": [\n          \"UAE\",\n          \"Tokio / Tokyo\",\n          \"Texas\"\n        ],\n        \"semantic_type\": \"\",\n        \"description\": \"\"\n      }\n    },\n    {\n      \"column\": \"text\",\n      \"properties\": {\n        \"dtype\": \"string\",\n        \"num_unique_values\": 3243,\n        \"samples\": [\n          \"Latest: USA: Huge sinkhole swallows up Brooklyn intersection http://t.co/vspKHg3nZy\",\n          \"I liked a @YouTube video http://t.co/a5YTAw9Vih S.O.S. Rona Guide - The Red Whirlwind\",\n          \"HitchBot travels Europe and greeted with open arms. Gets destroyed after two weeks in america. There's a lesson to be learned here.\"\n        ],\n        \"semantic_type\": \"\",\n        \"description\": \"\"\n      }\n    }\n  ]\n}"
            }
          },
          "metadata": {},
          "execution_count": 13
        }
      ],
      "execution_count": null
    },
    {
      "cell_type": "markdown",
      "source": [
        "# Explore the dataset"
      ],
      "metadata": {
        "id": "7I6mpJuUz-Dy"
      }
    },
    {
      "cell_type": "code",
      "source": [
        "df_train[\"length\"] = df_train[\"text\"].apply(lambda x : len(x))\n",
        "df_test[\"length\"] = df_test[\"text\"].apply(lambda x : len(x))\n",
        "\n",
        "print(\"Train Length Stat\")\n",
        "print(df_train[\"length\"].describe())\n",
        "print()\n",
        "\n",
        "print(\"Test Length Stat\")\n",
        "print(df_test[\"length\"].describe())"
      ],
      "metadata": {
        "execution": {
          "iopub.status.busy": "2025-01-28T14:56:53.344231Z",
          "iopub.execute_input": "2025-01-28T14:56:53.344577Z",
          "iopub.status.idle": "2025-01-28T14:56:53.372941Z",
          "shell.execute_reply.started": "2025-01-28T14:56:53.34455Z",
          "shell.execute_reply": "2025-01-28T14:56:53.37183Z"
        },
        "trusted": true,
        "id": "K3yDWYxFz-Dz",
        "outputId": "8ed4550f-6ac6-469f-8129-74e56622f16c",
        "colab": {
          "base_uri": "https://localhost:8080/"
        }
      },
      "outputs": [
        {
          "output_type": "stream",
          "name": "stdout",
          "text": [
            "Train Length Stat\n",
            "count    7613.000000\n",
            "mean      101.037436\n",
            "std        33.781325\n",
            "min         7.000000\n",
            "25%        78.000000\n",
            "50%       107.000000\n",
            "75%       133.000000\n",
            "max       157.000000\n",
            "Name: length, dtype: float64\n",
            "\n",
            "Test Length Stat\n",
            "count    3263.000000\n",
            "mean      102.108183\n",
            "std        33.972158\n",
            "min         5.000000\n",
            "25%        78.000000\n",
            "50%       109.000000\n",
            "75%       134.000000\n",
            "max       151.000000\n",
            "Name: length, dtype: float64\n"
          ]
        }
      ],
      "execution_count": null
    },
    {
      "cell_type": "code",
      "source": [
        "print(df_train.isna().sum())\n",
        "print(df_test.isna().sum())"
      ],
      "metadata": {
        "trusted": true,
        "execution": {
          "iopub.status.busy": "2025-01-28T16:14:05.783778Z",
          "iopub.execute_input": "2025-01-28T16:14:05.784149Z",
          "iopub.status.idle": "2025-01-28T16:14:05.799076Z",
          "shell.execute_reply.started": "2025-01-28T16:14:05.784121Z",
          "shell.execute_reply": "2025-01-28T16:14:05.797954Z"
        },
        "id": "zCZ8rIEXz-D1",
        "outputId": "56f3cf55-5134-44e3-af9d-3bbedd6c9da1",
        "colab": {
          "base_uri": "https://localhost:8080/"
        }
      },
      "outputs": [
        {
          "output_type": "stream",
          "name": "stdout",
          "text": [
            "id             0\n",
            "keyword       61\n",
            "location    2533\n",
            "text           0\n",
            "target         0\n",
            "length         0\n",
            "dtype: int64\n",
            "id             0\n",
            "keyword       26\n",
            "location    1105\n",
            "text           0\n",
            "length         0\n",
            "dtype: int64\n"
          ]
        }
      ],
      "execution_count": null
    },
    {
      "cell_type": "markdown",
      "source": [
        "We can note that some of the tweets do not include a keyword or a location. In the first attempt, those will not be considered."
      ],
      "metadata": {
        "id": "t9zz0PV0z-D2"
      }
    },
    {
      "cell_type": "code",
      "source": [
        "print (f'{len(df_train[\"location\"].unique())} different locations')\n",
        "print (f'{len(df_train[\"keyword\"].unique())} different keywords')"
      ],
      "metadata": {
        "trusted": true,
        "execution": {
          "iopub.status.busy": "2025-01-28T14:56:53.405164Z",
          "iopub.execute_input": "2025-01-28T14:56:53.405572Z",
          "iopub.status.idle": "2025-01-28T14:56:53.41741Z",
          "shell.execute_reply.started": "2025-01-28T14:56:53.405529Z",
          "shell.execute_reply": "2025-01-28T14:56:53.41641Z"
        },
        "id": "usIgZZ4Kz-D2",
        "outputId": "02757812-5809-415b-a3d4-8d1b46ab5344"
      },
      "outputs": [
        {
          "name": "stdout",
          "text": "3342 different locations\n222 different keywords\n",
          "output_type": "stream"
        }
      ],
      "execution_count": null
    },
    {
      "cell_type": "markdown",
      "source": [
        "We can check for inconsistent tags (same text with different target)."
      ],
      "metadata": {
        "id": "UOjJ0NXiz-D3"
      }
    },
    {
      "cell_type": "code",
      "source": [
        "# Count the duplicated values in the 'Text' column\n",
        "duplicated_text_count = df_train.duplicated(subset=['text']).sum()\n",
        "\n",
        "# Count the duplicated values based on both 'Text' and 'Category'. If the counts are the same as above,those duplicates have consistent 'Category'\n",
        "duplicated_textcat_count = df_train.duplicated(subset=['text', 'target']).sum()\n",
        "\n",
        "# Print the counts\n",
        "print(f'There are {duplicated_text_count} rows with the same texts in the training data.')\n",
        "print(f'There are {duplicated_textcat_count} rows with the same texts and categories in the training data.')\n",
        "\n",
        "\n",
        "\n"
      ],
      "metadata": {
        "trusted": true,
        "execution": {
          "iopub.status.busy": "2025-01-28T14:56:53.419065Z",
          "iopub.execute_input": "2025-01-28T14:56:53.419458Z",
          "iopub.status.idle": "2025-01-28T14:56:53.437886Z",
          "shell.execute_reply.started": "2025-01-28T14:56:53.419422Z",
          "shell.execute_reply": "2025-01-28T14:56:53.436618Z"
        },
        "id": "fAjpKfkwz-D4",
        "outputId": "cde74909-87d7-4350-f680-9dc2f0c11fba"
      },
      "outputs": [
        {
          "name": "stdout",
          "text": "There are 110 rows with the same texts in the training data.\nThere are 92 rows with the same texts and categories in the training data.\n",
          "output_type": "stream"
        }
      ],
      "execution_count": null
    },
    {
      "cell_type": "markdown",
      "source": [
        "There are some registers with the same text but different tag. These should be excluded from the study"
      ],
      "metadata": {
        "id": "PieBWU9vz-D6"
      }
    },
    {
      "cell_type": "code",
      "source": [
        "inconsistent_texts = (\n",
        "    df_train.groupby('text')['target']\n",
        "    .nunique()\n",
        "    .loc[lambda x: x > 1]  # Find names with more than 1 unique tag\n",
        "    .index\n",
        ")\n",
        "\n",
        "print(f\"There are {len(inconsistent_texts)} texts which are both clasified as disaster and non-disaster\")"
      ],
      "metadata": {
        "trusted": true,
        "execution": {
          "iopub.status.busy": "2025-01-28T16:16:22.45078Z",
          "iopub.execute_input": "2025-01-28T16:16:22.451123Z",
          "iopub.status.idle": "2025-01-28T16:16:22.469764Z",
          "shell.execute_reply.started": "2025-01-28T16:16:22.451097Z",
          "shell.execute_reply": "2025-01-28T16:16:22.468297Z"
        },
        "collapsed": true,
        "jupyter": {
          "outputs_hidden": true
        },
        "id": "9j2c-pLVz-D6",
        "outputId": "8d796e46-d006-4075-ad8f-2dfc576763bc"
      },
      "outputs": [
        {
          "name": "stdout",
          "text": "There are 18 texts which are both clasified as disaster and non-disaster\n",
          "output_type": "stream"
        }
      ],
      "execution_count": null
    },
    {
      "cell_type": "markdown",
      "source": [
        "such texts must be removed from the original dataframe before continuing the analysis."
      ],
      "metadata": {
        "id": "RWHO48XQz-D7"
      }
    },
    {
      "cell_type": "code",
      "source": [
        "\n",
        "#  Remove rows with inconsistent text classification\n",
        "df_train_cleaned = df_train[~df_train['text'].isin(inconsistent_texts)]\n",
        "\n",
        "print(f\"the cleand dataframe has {len(df_train_cleaned)} entries\")\n"
      ],
      "metadata": {
        "trusted": true,
        "execution": {
          "iopub.status.busy": "2025-01-28T14:56:53.471006Z",
          "iopub.execute_input": "2025-01-28T14:56:53.471349Z",
          "iopub.status.idle": "2025-01-28T14:56:53.481799Z",
          "shell.execute_reply.started": "2025-01-28T14:56:53.471311Z",
          "shell.execute_reply": "2025-01-28T14:56:53.4806Z"
        },
        "id": "AOXU8xHoz-D8",
        "outputId": "ddc91c49-0179-406a-cc1f-4f53677dba85"
      },
      "outputs": [
        {
          "name": "stdout",
          "text": "the cleand dataframe has 7558 entries\n",
          "output_type": "stream"
        }
      ],
      "execution_count": null
    },
    {
      "cell_type": "code",
      "source": [
        "# We now see the corresponding distribution of the categories\n",
        "plt.figure(figsize=(2, 2))\n",
        "sns.histplot(df_train_cleaned, x='target', hue='target', shrink=3, legend=False);\n",
        "plt.xticks(rotation=60, ha='right');\n"
      ],
      "metadata": {
        "trusted": true,
        "execution": {
          "iopub.status.busy": "2025-01-28T14:56:53.483268Z",
          "iopub.execute_input": "2025-01-28T14:56:53.483711Z",
          "iopub.status.idle": "2025-01-28T14:56:53.788366Z",
          "shell.execute_reply.started": "2025-01-28T14:56:53.483674Z",
          "shell.execute_reply": "2025-01-28T14:56:53.78733Z"
        },
        "id": "H03jbgkTz-D8",
        "outputId": "e30d07cf-72fe-4dc0-d9b1-ae51b11f3226"
      },
      "outputs": [
        {
          "output_type": "display_data",
          "data": {
            "text/plain": "<Figure size 200x200 with 1 Axes>",
            "image/png": "[encoded data removed]"
          },
          "metadata": {}
        }
      ],
      "execution_count": null
    },
    {
      "cell_type": "markdown",
      "source": [
        "The inconsistent tags are a serious problem, but also there might be a problem in case of consistent repeated texts, as they could cause overftting. They will be removed now"
      ],
      "metadata": {
        "id": "ot_HUanEz-D9"
      }
    },
    {
      "cell_type": "code",
      "source": [
        "# Remove duplicates\n",
        "df_train_cleaned = df_train_cleaned.drop_duplicates(subset=['text'])\n",
        "\n",
        "# Check train data counts. Originally training data has 1490 rows and 50 rows should be dropped. So, I expect 1440 rows left.\n",
        "print(f'Samples in training data after moving duplicates: {df_train_cleaned.shape[0]}')\n",
        "\n"
      ],
      "metadata": {
        "trusted": true,
        "execution": {
          "iopub.status.busy": "2025-01-28T14:56:53.789682Z",
          "iopub.execute_input": "2025-01-28T14:56:53.789985Z",
          "iopub.status.idle": "2025-01-28T14:56:53.79841Z",
          "shell.execute_reply.started": "2025-01-28T14:56:53.78996Z",
          "shell.execute_reply": "2025-01-28T14:56:53.797296Z"
        },
        "id": "6YHFh40Oz-D_",
        "outputId": "84b552b8-611c-46d5-ba2a-114868d8d9e0"
      },
      "outputs": [
        {
          "name": "stdout",
          "text": "Samples in training data after moving duplicates: 7485\n",
          "output_type": "stream"
        }
      ],
      "execution_count": null
    },
    {
      "cell_type": "code",
      "source": [
        "# We now see the corresponding distribution of the categories\n",
        "plt.figure(figsize=(2, 2))\n",
        "sns.histplot(df_train_cleaned, x='target', hue='target', shrink=3, legend=False);\n",
        "plt.xticks(rotation=60, ha='right');\n"
      ],
      "metadata": {
        "trusted": true,
        "execution": {
          "iopub.status.busy": "2025-01-28T14:56:53.799973Z",
          "iopub.execute_input": "2025-01-28T14:56:53.800292Z",
          "iopub.status.idle": "2025-01-28T14:56:54.070952Z",
          "shell.execute_reply.started": "2025-01-28T14:56:53.800264Z",
          "shell.execute_reply": "2025-01-28T14:56:54.069607Z"
        },
        "id": "OE_XeKC1z-EA",
        "outputId": "d7294047-ba36-41d6-ea54-4f59a9d0f1c7"
      },
      "outputs": [
        {
          "output_type": "display_data",
          "data": {
            "text/plain": "<Figure size 200x200 with 1 Axes>",
            "image/png": "[encoded data removed]"
          },
          "metadata": {}
        }
      ],
      "execution_count": null
    },
    {
      "cell_type": "markdown",
      "source": [
        "# Preprocess the data"
      ],
      "metadata": {
        "id": "1Nhrtss6z-EC"
      }
    },
    {
      "cell_type": "code",
      "source": [
        "BATCH_SIZE = 32\n",
        "NUM_TRAINING_EXAMPLES = df_train.shape[0]\n",
        "TRAIN_SPLIT = 0.8\n",
        "VAL_SPLIT = 0.2\n",
        "STEPS_PER_EPOCH = int(NUM_TRAINING_EXAMPLES)*TRAIN_SPLIT // BATCH_SIZE\n",
        "SEED = 412294\n",
        "EPOCHS = 2\n",
        "AUTO = tf.data.experimental.AUTOTUNE"
      ],
      "metadata": {
        "execution": {
          "iopub.status.busy": "2025-01-28T14:56:54.07249Z",
          "iopub.execute_input": "2025-01-28T14:56:54.072836Z",
          "iopub.status.idle": "2025-01-28T14:56:54.078261Z",
          "shell.execute_reply.started": "2025-01-28T14:56:54.072801Z",
          "shell.execute_reply": "2025-01-28T14:56:54.077166Z"
        },
        "trusted": true,
        "id": "15elub8Kz-EC"
      },
      "outputs": [],
      "execution_count": null
    },
    {
      "cell_type": "code",
      "source": [
        "from sklearn.model_selection import train_test_split\n",
        "\n",
        "X = df_train_cleaned[\"text\"]\n",
        "y = df_train_cleaned[\"target\"]\n",
        "\n",
        "X_train, X_val, y_train, y_val = train_test_split(X, y, test_size=VAL_SPLIT, random_state=SEED)\n",
        "\n",
        "X_test = df_test[\"text\"]"
      ],
      "metadata": {
        "execution": {
          "iopub.status.busy": "2025-01-28T14:56:54.080017Z",
          "iopub.execute_input": "2025-01-28T14:56:54.080328Z",
          "iopub.status.idle": "2025-01-28T14:56:54.094601Z",
          "shell.execute_reply.started": "2025-01-28T14:56:54.080301Z",
          "shell.execute_reply": "2025-01-28T14:56:54.093463Z"
        },
        "trusted": true,
        "id": "G3QZJOtKz-ED"
      },
      "outputs": [],
      "execution_count": null
    },
    {
      "cell_type": "code",
      "source": [
        "!python3 -m pip install wordninja num2words mplcyberpunk spacy==3.3\n",
        "\n",
        "!python3 -m spacy download en_core_web_lg\n"
      ],
      "metadata": {
        "trusted": true,
        "execution": {
          "iopub.status.busy": "2025-01-28T16:24:10.65075Z",
          "iopub.execute_input": "2025-01-28T16:24:10.651146Z",
          "iopub.status.idle": "2025-01-28T16:28:45.442249Z",
          "shell.execute_reply.started": "2025-01-28T16:24:10.651112Z",
          "shell.execute_reply": "2025-01-28T16:28:45.440735Z"
        },
        "id": "XJVN5-Tdz-EE",
        "outputId": "507a35b8-12c8-42d1-fc55-3a573019253a"
      },
      "outputs": [
        {
          "name": "stdout",
          "text": "\u001b[33mWARNING: Retrying (Retry(total=4, connect=None, read=None, redirect=None, status=None)) after connection broken by 'NewConnectionError('<pip._vendor.urllib3.connection.HTTPSConnection object at 0x7a976ea48910>: Failed to establish a new connection: [Errno -3] Temporary failure in name resolution')': /simple/wordninja/\u001b[0m\u001b[33m\n\u001b[0m\u001b[33mWARNING: Retrying (Retry(total=3, connect=None, read=None, redirect=None, status=None)) after connection broken by 'NewConnectionError('<pip._vendor.urllib3.connection.HTTPSConnection object at 0x7a976ea48c40>: Failed to establish a new connection: [Errno -3] Temporary failure in name resolution')': /simple/wordninja/\u001b[0m\u001b[33m\n\u001b[0m\u001b[33mWARNING: Retrying (Retry(total=2, connect=None, read=None, redirect=None, status=None)) after connection broken by 'NewConnectionError('<pip._vendor.urllib3.connection.HTTPSConnection object at 0x7a976ea48ee0>: Failed to establish a new connection: [Errno -3] Temporary failure in name resolution')': /simple/wordninja/\u001b[0m\u001b[33m\n\u001b[0m\u001b[33mWARNING: Retrying (Retry(total=1, connect=None, read=None, redirect=None, status=None)) after connection broken by 'NewConnectionError('<pip._vendor.urllib3.connection.HTTPSConnection object at 0x7a976ea49090>: Failed to establish a new connection: [Errno -3] Temporary failure in name resolution')': /simple/wordninja/\u001b[0m\u001b[33m\n\u001b[0m\u001b[33mWARNING: Retrying (Retry(total=0, connect=None, read=None, redirect=None, status=None)) after connection broken by 'NewConnectionError('<pip._vendor.urllib3.connection.HTTPSConnection object at 0x7a976ea49240>: Failed to establish a new connection: [Errno -3] Temporary failure in name resolution')': /simple/wordninja/\u001b[0m\u001b[33m\n\u001b[0m\u001b[31mERROR: Could not find a version that satisfies the requirement wordninja (from versions: none)\u001b[0m\u001b[31m\n\u001b[0m\u001b[31mERROR: No matching distribution found for wordninja\u001b[0m\u001b[31m\n\u001b[0m/opt/conda/lib/python3.10/site-packages/scipy/__init__.py:146: UserWarning: A NumPy version >=1.16.5 and <1.23.0 is required for this version of SciPy (detected version 1.23.5\n  warnings.warn(f\"A NumPy version >={np_minversion} and <{np_maxversion}\"\n/opt/conda/lib/python3.10/site-packages/tensorflow_io/python/ops/__init__.py:98: UserWarning: unable to load libtensorflow_io_plugins.so: unable to open file: libtensorflow_io_plugins.so, from paths: ['/opt/conda/lib/python3.10/site-packages/tensorflow_io/python/ops/libtensorflow_io_plugins.so']\ncaused by: ['/opt/conda/lib/python3.10/site-packages/tensorflow_io/python/ops/libtensorflow_io_plugins.so: undefined symbol: _ZN3tsl6StatusC1EN10tensorflow5error4CodeESt17basic_string_viewIcSt11char_traitsIcEENS_14SourceLocationE']\n  warnings.warn(f\"unable to load libtensorflow_io_plugins.so: {e}\")\n/opt/conda/lib/python3.10/site-packages/tensorflow_io/python/ops/__init__.py:104: UserWarning: file system plugins are not loaded: unable to open file: libtensorflow_io.so, from paths: ['/opt/conda/lib/python3.10/site-packages/tensorflow_io/python/ops/libtensorflow_io.so']\ncaused by: ['/opt/conda/lib/python3.10/site-packages/tensorflow_io/python/ops/libtensorflow_io.so: undefined symbol: _ZTVN10tensorflow13GcsFileSystemE']\n  warnings.warn(f\"file system plugins are not loaded: {e}\")\nTraceback (most recent call last):\n  File \"/opt/conda/lib/python3.10/site-packages/urllib3/connection.py\", line 174, in _new_conn\n    conn = connection.create_connection(\n  File \"/opt/conda/lib/python3.10/site-packages/urllib3/util/connection.py\", line 72, in create_connection\n    for res in socket.getaddrinfo(host, port, family, socket.SOCK_STREAM):\n  File \"/opt/conda/lib/python3.10/socket.py\", line 955, in getaddrinfo\n    for res in _socket.getaddrinfo(host, port, family, type, proto, flags):\nsocket.gaierror: [Errno -3] Temporary failure in name resolution\n\nDuring handling of the above exception, another exception occurred:\n\nTraceback (most recent call last):\n  File \"/opt/conda/lib/python3.10/site-packages/urllib3/connectionpool.py\", line 703, in urlopen\n    httplib_response = self._make_request(\n  File \"/opt/conda/lib/python3.10/site-packages/urllib3/connectionpool.py\", line 386, in _make_request\n    self._validate_conn(conn)\n  File \"/opt/conda/lib/python3.10/site-packages/urllib3/connectionpool.py\", line 1042, in _validate_conn\n    conn.connect()\n  File \"/opt/conda/lib/python3.10/site-packages/urllib3/connection.py\", line 363, in connect\n    self.sock = conn = self._new_conn()\n  File \"/opt/conda/lib/python3.10/site-packages/urllib3/connection.py\", line 186, in _new_conn\n    raise NewConnectionError(\nurllib3.exceptions.NewConnectionError: <urllib3.connection.HTTPSConnection object at 0x7f9c1a2e4580>: Failed to establish a new connection: [Errno -3] Temporary failure in name resolution\n\nDuring handling of the above exception, another exception occurred:\n\nTraceback (most recent call last):\n  File \"/opt/conda/lib/python3.10/site-packages/requests/adapters.py\", line 486, in send\n    resp = conn.urlopen(\n  File \"/opt/conda/lib/python3.10/site-packages/urllib3/connectionpool.py\", line 787, in urlopen\n    retries = retries.increment(\n  File \"/opt/conda/lib/python3.10/site-packages/urllib3/util/retry.py\", line 592, in increment\n    raise MaxRetryError(_pool, url, error or ResponseError(cause))\nurllib3.exceptions.MaxRetryError: HTTPSConnectionPool(host='raw.githubusercontent.com', port=443): Max retries exceeded with url: /explosion/spacy-models/master/compatibility.json (Caused by NewConnectionError('<urllib3.connection.HTTPSConnection object at 0x7f9c1a2e4580>: Failed to establish a new connection: [Errno -3] Temporary failure in name resolution'))\n\nDuring handling of the above exception, another exception occurred:\n\nTraceback (most recent call last):\n  File \"/opt/conda/lib/python3.10/runpy.py\", line 196, in _run_module_as_main\n    return _run_code(code, main_globals, None,\n  File \"/opt/conda/lib/python3.10/runpy.py\", line 86, in _run_code\n    exec(code, run_globals)\n  File \"/opt/conda/lib/python3.10/site-packages/spacy/__main__.py\", line 4, in <module>\n    setup_cli()\n  File \"/opt/conda/lib/python3.10/site-packages/spacy/cli/_util.py\", line 92, in setup_cli\n    command(prog_name=COMMAND)\n  File \"/opt/conda/lib/python3.10/site-packages/click/core.py\", line 1130, in __call__\n    return self.main(*args, **kwargs)\n  File \"/opt/conda/lib/python3.10/site-packages/typer/core.py\", line 778, in main\n    return _main(\n  File \"/opt/conda/lib/python3.10/site-packages/typer/core.py\", line 216, in _main\n    rv = self.invoke(ctx)\n  File \"/opt/conda/lib/python3.10/site-packages/click/core.py\", line 1657, in invoke\n    return _process_result(sub_ctx.command.invoke(sub_ctx))\n  File \"/opt/conda/lib/python3.10/site-packages/click/core.py\", line 1404, in invoke\n    return ctx.invoke(self.callback, **ctx.params)\n  File \"/opt/conda/lib/python3.10/site-packages/click/core.py\", line 760, in invoke\n    return __callback(*args, **kwargs)\n  File \"/opt/conda/lib/python3.10/site-packages/typer/main.py\", line 683, in wrapper\n    return callback(**use_params)  # type: ignore\n  File \"/opt/conda/lib/python3.10/site-packages/spacy/cli/download.py\", line 36, in download_cli\n    download(model, direct, sdist, *ctx.args)\n  File \"/opt/conda/lib/python3.10/site-packages/spacy/cli/download.py\", line 70, in download\n    compatibility = get_compatibility()\n  File \"/opt/conda/lib/python3.10/site-packages/spacy/cli/download.py\", line 94, in get_compatibility\n    r = requests.get(about.__compatibility__)\n  File \"/opt/conda/lib/python3.10/site-packages/requests/api.py\", line 73, in get\n    return request(\"get\", url, params=params, **kwargs)\n  File \"/opt/conda/lib/python3.10/site-packages/requests/api.py\", line 59, in request\n    return session.request(method=method, url=url, **kwargs)\n  File \"/opt/conda/lib/python3.10/site-packages/requests/sessions.py\", line 589, in request\n    resp = self.send(prep, **send_kwargs)\n  File \"/opt/conda/lib/python3.10/site-packages/requests/sessions.py\", line 703, in send\n    r = adapter.send(request, **kwargs)\n  File \"/opt/conda/lib/python3.10/site-packages/requests/adapters.py\", line 519, in send\n    raise ConnectionError(e, request=request)\nrequests.exceptions.ConnectionError: HTTPSConnectionPool(host='raw.githubusercontent.com', port=443): Max retries exceeded with url: /explosion/spacy-models/master/compatibility.json (Caused by NewConnectionError('<urllib3.connection.HTTPSConnection object at 0x7f9c1a2e4580>: Failed to establish a new connection: [Errno -3] Temporary failure in name resolution'))\n",
          "output_type": "stream"
        }
      ],
      "execution_count": null
    },
    {
      "cell_type": "code",
      "source": [
        "from spacy import displacy\n",
        "\n",
        "nlp = spacy.load(\"en_core_web_lg\")\n",
        "raw_text=\"\"\"Floods brought on by days of heavy rainfalls have been ravaging countries including Poland, Romania,\n",
        "            the Czech Republic and Austria, with thousands of people being evacuated as the death toll rises.\n",
        "            Austrian Chancellor Karl Nehammer on Monday said in a post on social media platform X,\n",
        "            that was translated by CNBC, that two more people had died following floods in the country.\n",
        "            This is in addition to a firefighter who died Sunday.\"\"\"\n",
        "\n",
        "text1 = nlp(raw_text)\n",
        "displacy.render(text1, style=\"ent\")"
      ],
      "metadata": {
        "trusted": true,
        "execution": {
          "iopub.status.busy": "2025-01-28T16:28:45.445549Z",
          "iopub.execute_input": "2025-01-28T16:28:45.446077Z",
          "iopub.status.idle": "2025-01-28T16:28:45.516537Z",
          "shell.execute_reply.started": "2025-01-28T16:28:45.446033Z",
          "shell.execute_reply": "2025-01-28T16:28:45.515123Z"
        },
        "id": "wRO7_siRz-EE",
        "outputId": "8446f0f3-d8ed-414d-fab0-5a8dfed60bd0"
      },
      "outputs": [
        {
          "traceback": [
            "\u001b[0;31m---------------------------------------------------------------------------\u001b[0m",
            "\u001b[0;31mNameError\u001b[0m                                 Traceback (most recent call last)",
            "Cell \u001b[0;32mIn[64], line 3\u001b[0m\n\u001b[1;32m      1\u001b[0m \u001b[38;5;28;01mfrom\u001b[39;00m \u001b[38;5;21;01mspacy\u001b[39;00m \u001b[38;5;28;01mimport\u001b[39;00m displacy\n\u001b[0;32m----> 3\u001b[0m nlp \u001b[38;5;241m=\u001b[39m \u001b[43mspacy\u001b[49m\u001b[38;5;241m.\u001b[39mload(\u001b[38;5;124m\"\u001b[39m\u001b[38;5;124men_core_web_lg\u001b[39m\u001b[38;5;124m\"\u001b[39m)\n\u001b[1;32m      4\u001b[0m raw_text\u001b[38;5;241m=\u001b[39m\u001b[38;5;124m\"\"\"\u001b[39m\u001b[38;5;124mFloods brought on by days of heavy rainfalls have been ravaging countries including Poland, Romania, \u001b[39m\n\u001b[1;32m      5\u001b[0m \u001b[38;5;124m            the Czech Republic and Austria, with thousands of people being evacuated as the death toll rises.\u001b[39m\n\u001b[1;32m      6\u001b[0m \u001b[38;5;124m            Austrian Chancellor Karl Nehammer on Monday said in a post on social media platform X, \u001b[39m\n\u001b[1;32m      7\u001b[0m \u001b[38;5;124m            that was translated by CNBC, that two more people had died following floods in the country. \u001b[39m\n\u001b[1;32m      8\u001b[0m \u001b[38;5;124m            This is in addition to a firefighter who died Sunday.\u001b[39m\u001b[38;5;124m\"\"\"\u001b[39m\n\u001b[1;32m     10\u001b[0m text1 \u001b[38;5;241m=\u001b[39m nlp(raw_text)   \n",
            "\u001b[0;31mNameError\u001b[0m: name 'spacy' is not defined"
          ],
          "ename": "NameError",
          "evalue": "name 'spacy' is not defined",
          "output_type": "error"
        }
      ],
      "execution_count": null
    },
    {
      "cell_type": "code",
      "source": [
        "# plot some most frequent words\n",
        "def frequency_plot(frequency,start,end):\n",
        "    frequency = frequency[start:end]\n",
        "    plt.figure(figsize=(20,2))\n",
        "    plt.bar(frequency.index, frequency)\n",
        "    plt.title(f'frequency counts - top {start} to {end} frequent words')\n",
        "    plt.xticks(ticks=frequency.index,rotation=90, labels=frequency.index)\n",
        "    plt.tick_params(axis='x', which='both', bottom=False, top=False)\n",
        "    plt.show()\n",
        "\n",
        "frequency = df_train_cleaned['text'].str.split().explode().value_counts()\n",
        "\n",
        "\n",
        "frequency_plot(frequency,0,40)\n",
        "frequency_plot(frequency, 40,80)\n",
        "frequency_plot(frequency, 80,120)"
      ],
      "metadata": {
        "trusted": true,
        "execution": {
          "iopub.status.busy": "2025-01-28T14:56:54.096079Z",
          "iopub.execute_input": "2025-01-28T14:56:54.096479Z",
          "iopub.status.idle": "2025-01-28T14:56:55.979638Z",
          "shell.execute_reply.started": "2025-01-28T14:56:54.096443Z",
          "shell.execute_reply": "2025-01-28T14:56:55.978563Z"
        },
        "id": "Eg-eqKCAz-EG",
        "outputId": "80fdb1cd-2f28-424a-e678-b29d3e69c2fd"
      },
      "outputs": [
        {
          "output_type": "display_data",
          "data": {
            "text/plain": "<Figure size 2000x200 with 1 Axes>",
            "image/png": "[encoded data removed]"
          },
          "metadata": {}
        },
        {
          "output_type": "display_data",
          "data": {
            "text/plain": "<Figure size 2000x200 with 1 Axes>",
            "image/png": "[encoded data removed]"
          },
          "metadata": {}
        },
        {
          "output_type": "display_data",
          "data": {
            "text/plain": "<Figure size 2000x200 with 1 Axes>",
            "image/png": "[encoded data removed]"
          },
          "metadata": {}
        }
      ],
      "execution_count": null
    },
    {
      "cell_type": "markdown",
      "source": [
        "We note first that connecting words (the, a, an, and, to, of,...) are among the most common ones, but they do not add any context to the text. They will be removed. Also, we see that as expected some words start by a \"hashtag\" since it is used for tagging in twitter.\n",
        "Words wll then need to be tokenized (for instance using the root). Finally, each tweet will be vectorized.  "
      ],
      "metadata": {
        "id": "tXFp5sQwz-EH"
      }
    },
    {
      "cell_type": "code",
      "source": [
        "print(len(frequency))\n",
        "print(frequency.sort_index()[1000:1010])\n",
        "frequency.sort_index()[21000:21010]"
      ],
      "metadata": {
        "trusted": true,
        "execution": {
          "iopub.status.busy": "2025-01-28T14:56:55.983026Z",
          "iopub.execute_input": "2025-01-28T14:56:55.983374Z",
          "iopub.status.idle": "2025-01-28T14:56:56.07593Z",
          "shell.execute_reply.started": "2025-01-28T14:56:55.983342Z",
          "shell.execute_reply": "2025-01-28T14:56:56.074833Z"
        },
        "id": "9YPm-Bvtz-EH",
        "outputId": "351deb44-d4dc-4628-a5c5-4015ced5feb1"
      },
      "outputs": [
        {
          "name": "stdout",
          "text": "31870\n#SuryaRay    1\n#Susiya      1\n#Suspense    1\n#Swag        1\n#Sydney      1\n#Syria       2\n#Syria.      1\n#Syrian      1\n#TAFS        1\n#TBT         4\nName: text, dtype: int64\n",
          "output_type": "stream"
        },
        {
          "execution_count": 18,
          "output_type": "execute_result",
          "data": {
            "text/plain": "http://t.co/5BGcw3EzB5    1\nhttp://t.co/5CGtqfk2uR    1\nhttp://t.co/5Cm0LfZhxn    1\nhttp://t.co/5CwUyLnFUm    1\nhttp://t.co/5EBpYbFH4D    1\nhttp://t.co/5FcJVMl520    1\nhttp://t.co/5G8qA6mPxm    1\nhttp://t.co/5GKTSHioRR    1\nhttp://t.co/5IyZsDA6xB    1\nhttp://t.co/5KohO39oJE    1\nName: text, dtype: int64"
          },
          "metadata": {}
        }
      ],
      "execution_count": null
    },
    {
      "cell_type": "code",
      "source": [
        "# function for text preprocessing\n",
        "import re\n",
        "# nltk\n",
        "import nltk\n",
        "from nltk.corpus import stopwords\n",
        "from nltk.tokenize import word_tokenize\n",
        "from nltk.stem import PorterStemmer\n",
        "def text_preprocessing(df):\n",
        "    \"\"\"\n",
        "    This function does in place replacement of data so it won't return anything\n",
        "    \"\"\"\n",
        "    # convert to lower cases\n",
        "    df['text']=df['text'].str.lower()\n",
        "\n",
        "    # remove punctuation\n",
        "    df['text'] = df['text'].apply(lambda doc: re.sub('\\\\$', ' dollar ',doc)) # eliminates dots ans spaces between numbers\n",
        "    df['text'] = df['text'].apply(lambda doc: re.sub('£', ' pound sterling ',doc)) # eliminates dots ans spaces between numbers\n",
        "    df['text'] = df['text'].apply(lambda doc: re.sub('€',  ' euro ',doc)) # eliminates dots ans spaces between numbers\n",
        "    df['text'] = df['text'].apply(lambda doc: re.sub('%', ' percent ',doc)) # eliminates dots ans spaces between numbers\n",
        "\n",
        "    df['text'] = df['text'].apply(lambda doc: re.sub(r'(\\d)\\.\\s', r'\\1',doc)) # eliminates dots ans spaces between numbers\n",
        "    df['text'] = df['text'].apply(lambda doc: re.sub(r'[^\\w\\s]+', '', doc)) #remove punctuation\n",
        "    df['text'] = df['text'].apply(lambda doc: re.sub(\"([0-9])+\", \" a_number \",doc)) # Replaces digits by \"X\"\n",
        "\n",
        "\n",
        "\n",
        "    # remove stopwords\n",
        "    stop_words = nltk.corpus.stopwords.words('english')\n",
        "    df['text'] = df['text'].apply(lambda doc: ' '.join([word for word in doc.split() if word not in (stop_words)]))\n",
        "\n",
        "\n",
        "\n",
        "    # remove extra spaces\n",
        "    df['text'] = df['text'].apply(lambda doc: re.sub(' +', ' ', doc))\n",
        "\n",
        "    # stemming\n",
        "    porter_stemmer = PorterStemmer()\n",
        "    df['text'] = df['text'].apply(lambda doc:  [porter_stemmer.stem(word) for word in word_tokenize(doc) ])\n",
        "    df['text'] = df['text'].apply(lambda words: ' '.join(words))\n",
        "\n",
        "# take a look at text 0\n",
        "train_copy = df_train_cleaned.copy()\n",
        "test_copy = df_test.copy()\n",
        "\n",
        "print('1st text before preprocessing: \\n',train_copy['text'][0])\n",
        "text_preprocessing(train_copy)\n",
        "print('\\n1st text after preprocessing: \\n',train_copy['text'][0])"
      ],
      "metadata": {
        "execution": {
          "iopub.status.busy": "2025-01-28T14:56:56.077738Z",
          "iopub.execute_input": "2025-01-28T14:56:56.07821Z",
          "iopub.status.idle": "2025-01-28T14:56:59.857339Z",
          "shell.execute_reply.started": "2025-01-28T14:56:56.078171Z",
          "shell.execute_reply": "2025-01-28T14:56:59.856246Z"
        },
        "trusted": true,
        "id": "Fo_teJldz-EI",
        "outputId": "733e2834-f0bc-439b-f07c-9a9c1def48b9"
      },
      "outputs": [
        {
          "name": "stdout",
          "text": "1st text before preprocessing: \n Our Deeds are the Reason of this #earthquake May ALLAH Forgive us all\n\n1st text after preprocessing: \n deed reason earthquak may allah forgiv us\n",
          "output_type": "stream"
        }
      ],
      "execution_count": null
    },
    {
      "cell_type": "code",
      "source": [
        "frequency = train_copy['text'].str.split().explode().value_counts()\n",
        "\n",
        "frequency_plot(frequency,0,40)\n",
        "frequency_plot(frequency, 40,80)\n",
        "frequency_plot(frequency, 80,120)"
      ],
      "metadata": {
        "trusted": true,
        "execution": {
          "iopub.status.busy": "2025-01-28T14:56:59.858593Z",
          "iopub.execute_input": "2025-01-28T14:56:59.858911Z",
          "iopub.status.idle": "2025-01-28T14:57:01.639206Z",
          "shell.execute_reply.started": "2025-01-28T14:56:59.858884Z",
          "shell.execute_reply": "2025-01-28T14:57:01.638162Z"
        },
        "id": "zATzy8wKz-EI",
        "outputId": "31277c51-d101-4140-c095-226ead57bd38"
      },
      "outputs": [
        {
          "output_type": "display_data",
          "data": {
            "text/plain": "<Figure size 2000x200 with 1 Axes>",
            "image/png": "[encoded data removed]"
          },
          "metadata": {}
        },
        {
          "output_type": "display_data",
          "data": {
            "text/plain": "<Figure size 2000x200 with 1 Axes>",
            "image/png": "[encoded data removed]"
          },
          "metadata": {}
        },
        {
          "output_type": "display_data",
          "data": {
            "text/plain": "<Figure size 2000x200 with 1 Axes>",
            "image/png": "[encoded data removed]"
          },
          "metadata": {}
        }
      ],
      "execution_count": null
    },
    {
      "cell_type": "code",
      "source": [
        "from sklearn.feature_extraction.text import TfidfVectorizer\n",
        "tfidf_vectorizer = TfidfVectorizer(min_df=2, max_df=0.9, ngram_range=(1,2), stop_words=\"english\", sublinear_tf=True)\n",
        "\n",
        "# DTM: Document Term Matrix\n",
        "DTM = tfidf_vectorizer.fit_transform(train_copy.text)\n",
        "\n",
        "feature_names = tfidf_vectorizer.get_feature_names_out()\n",
        "\n",
        "DTM_df = pd.DataFrame(DTM.toarray(), columns=feature_names)\n",
        "print('Document Term Matrix size:', DTM_df.shape)\n",
        "DTM_df.head()"
      ],
      "metadata": {
        "trusted": true,
        "execution": {
          "iopub.status.busy": "2025-01-28T14:57:01.640963Z",
          "iopub.execute_input": "2025-01-28T14:57:01.641367Z",
          "iopub.status.idle": "2025-01-28T14:57:02.334378Z",
          "shell.execute_reply.started": "2025-01-28T14:57:01.641329Z",
          "shell.execute_reply": "2025-01-28T14:57:02.333086Z"
        },
        "id": "tlVHeK_Kz-EL",
        "outputId": "1241e501-c086-45c2-8b8d-c294ed3f6083"
      },
      "outputs": [
        {
          "name": "stdout",
          "text": "Document Term Matrix size: (7485, 11476)\n",
          "output_type": "stream"
        },
        {
          "execution_count": 21,
          "output_type": "execute_result",
          "data": {
            "text/plain": "    __    a_numb  a_numb a_numb  a_numb aa  a_numb ab  a_numb abc  a_numb ac  \\\n0  0.0  0.000000            0.0        0.0        0.0         0.0        0.0   \n1  0.0  0.000000            0.0        0.0        0.0         0.0        0.0   \n2  0.0  0.000000            0.0        0.0        0.0         0.0        0.0   \n3  0.0  0.085506            0.0        0.0        0.0         0.0        0.0   \n4  0.0  0.000000            0.0        0.0        0.0         0.0        0.0   \n\n   a_numb acr  a_numb ad  a_numb ae  ...  ûò a_numb  ûò bb  ûò car  ûò chem  \\\n0         0.0        0.0        0.0  ...        0.0    0.0     0.0      0.0   \n1         0.0        0.0        0.0  ...        0.0    0.0     0.0      0.0   \n2         0.0        0.0        0.0  ...        0.0    0.0     0.0      0.0   \n3         0.0        0.0        0.0  ...        0.0    0.0     0.0      0.0   \n4         0.0        0.0        0.0  ...        0.0    0.0     0.0      0.0   \n\n   ûò deton  ûò video   ûó  ûó a_numb  ûó head  ûó richmond  \n0       0.0       0.0  0.0        0.0      0.0          0.0  \n1       0.0       0.0  0.0        0.0      0.0          0.0  \n2       0.0       0.0  0.0        0.0      0.0          0.0  \n3       0.0       0.0  0.0        0.0      0.0          0.0  \n4       0.0       0.0  0.0        0.0      0.0          0.0  \n\n[5 rows x 11476 columns]",
            "text/html": "<div>\n<style scoped>\n    .dataframe tbody tr th:only-of-type {\n        vertical-align: middle;\n    }\n\n    .dataframe tbody tr th {\n        vertical-align: top;\n    }\n\n    .dataframe thead th {\n        text-align: right;\n    }\n</style>\n<table border=\"1\" class=\"dataframe\">\n  <thead>\n    <tr style=\"text-align: right;\">\n      <th></th>\n      <th>__</th>\n      <th>a_numb</th>\n      <th>a_numb a_numb</th>\n      <th>a_numb aa</th>\n      <th>a_numb ab</th>\n      <th>a_numb abc</th>\n      <th>a_numb ac</th>\n      <th>a_numb acr</th>\n      <th>a_numb ad</th>\n      <th>a_numb ae</th>\n      <th>...</th>\n      <th>ûò a_numb</th>\n      <th>ûò bb</th>\n      <th>ûò car</th>\n      <th>ûò chem</th>\n      <th>ûò deton</th>\n      <th>ûò video</th>\n      <th>ûó</th>\n      <th>ûó a_numb</th>\n      <th>ûó head</th>\n      <th>ûó richmond</th>\n    </tr>\n  </thead>\n  <tbody>\n    <tr>\n      <th>0</th>\n      <td>0.0</td>\n      <td>0.000000</td>\n      <td>0.0</td>\n      <td>0.0</td>\n      <td>0.0</td>\n      <td>0.0</td>\n      <td>0.0</td>\n      <td>0.0</td>\n      <td>0.0</td>\n      <td>0.0</td>\n      <td>...</td>\n      <td>0.0</td>\n      <td>0.0</td>\n      <td>0.0</td>\n      <td>0.0</td>\n      <td>0.0</td>\n      <td>0.0</td>\n      <td>0.0</td>\n      <td>0.0</td>\n      <td>0.0</td>\n      <td>0.0</td>\n    </tr>\n    <tr>\n      <th>1</th>\n      <td>0.0</td>\n      <td>0.000000</td>\n      <td>0.0</td>\n      <td>0.0</td>\n      <td>0.0</td>\n      <td>0.0</td>\n      <td>0.0</td>\n      <td>0.0</td>\n      <td>0.0</td>\n      <td>0.0</td>\n      <td>...</td>\n      <td>0.0</td>\n      <td>0.0</td>\n      <td>0.0</td>\n      <td>0.0</td>\n      <td>0.0</td>\n      <td>0.0</td>\n      <td>0.0</td>\n      <td>0.0</td>\n      <td>0.0</td>\n      <td>0.0</td>\n    </tr>\n    <tr>\n      <th>2</th>\n      <td>0.0</td>\n      <td>0.000000</td>\n      <td>0.0</td>\n      <td>0.0</td>\n      <td>0.0</td>\n      <td>0.0</td>\n      <td>0.0</td>\n      <td>0.0</td>\n      <td>0.0</td>\n      <td>0.0</td>\n      <td>...</td>\n      <td>0.0</td>\n      <td>0.0</td>\n      <td>0.0</td>\n      <td>0.0</td>\n      <td>0.0</td>\n      <td>0.0</td>\n      <td>0.0</td>\n      <td>0.0</td>\n      <td>0.0</td>\n      <td>0.0</td>\n    </tr>\n    <tr>\n      <th>3</th>\n      <td>0.0</td>\n      <td>0.085506</td>\n      <td>0.0</td>\n      <td>0.0</td>\n      <td>0.0</td>\n      <td>0.0</td>\n      <td>0.0</td>\n      <td>0.0</td>\n      <td>0.0</td>\n      <td>0.0</td>\n      <td>...</td>\n      <td>0.0</td>\n      <td>0.0</td>\n      <td>0.0</td>\n      <td>0.0</td>\n      <td>0.0</td>\n      <td>0.0</td>\n      <td>0.0</td>\n      <td>0.0</td>\n      <td>0.0</td>\n      <td>0.0</td>\n    </tr>\n    <tr>\n      <th>4</th>\n      <td>0.0</td>\n      <td>0.000000</td>\n      <td>0.0</td>\n      <td>0.0</td>\n      <td>0.0</td>\n      <td>0.0</td>\n      <td>0.0</td>\n      <td>0.0</td>\n      <td>0.0</td>\n      <td>0.0</td>\n      <td>...</td>\n      <td>0.0</td>\n      <td>0.0</td>\n      <td>0.0</td>\n      <td>0.0</td>\n      <td>0.0</td>\n      <td>0.0</td>\n      <td>0.0</td>\n      <td>0.0</td>\n      <td>0.0</td>\n      <td>0.0</td>\n    </tr>\n  </tbody>\n</table>\n<p>5 rows × 11476 columns</p>\n</div>"
          },
          "metadata": {}
        }
      ],
      "execution_count": null
    },
    {
      "cell_type": "code",
      "source": [
        "import keras.backend as K\n",
        "\n",
        "def f1_metric(y_true, y_pred):\n",
        "    y_pred = K.round(y_pred)  # Round predictions to 0 or 1\n",
        "    tp = K.sum(K.cast(y_true * y_pred, 'float'), axis=0)  # True positives\n",
        "    fp = K.sum(K.cast((1 - y_true) * y_pred, 'float'), axis=0)  # False positives\n",
        "    fn = K.sum(K.cast(y_true * (1 - y_pred), 'float'), axis=0)  # False negatives\n",
        "\n",
        "    precision = tp / (tp + fp + K.epsilon())  # Add epsilon to avoid division by zero\n",
        "    recall = tp / (tp + fn + K.epsilon())\n",
        "    f1 = 2 * (precision * recall) / (precision + recall + K.epsilon())\n",
        "    return K.mean(f1)  # Average F1 over all batches\n"
      ],
      "metadata": {
        "trusted": true,
        "execution": {
          "iopub.status.busy": "2025-01-28T15:15:11.531459Z",
          "iopub.execute_input": "2025-01-28T15:15:11.531903Z",
          "iopub.status.idle": "2025-01-28T15:15:11.539624Z",
          "shell.execute_reply.started": "2025-01-28T15:15:11.531869Z",
          "shell.execute_reply": "2025-01-28T15:15:11.538278Z"
        },
        "id": "ltwhBcJNz-EM"
      },
      "outputs": [],
      "execution_count": null
    },
    {
      "cell_type": "code",
      "source": [
        "import numpy as np\n",
        "from keras.models import Sequential\n",
        "from keras.layers import SimpleRNN, Embedding, Dense, LSTM\n",
        "from keras.preprocessing.text import Tokenizer\n",
        "from tensorflow.keras.preprocessing.sequence import pad_sequences\n",
        "from sklearn.model_selection import train_test_split\n",
        "from sklearn.preprocessing import LabelEncoder\n"
      ],
      "metadata": {
        "trusted": true,
        "id": "WuGYxf1pz-EM"
      },
      "outputs": [],
      "execution_count": null
    },
    {
      "cell_type": "code",
      "source": [
        "LR = 0.001\n",
        "# Example dataset\n",
        "texts = train_copy[\"text\"]\n",
        "labels = train_copy[\"target\"]\n",
        "\n",
        "# Step 1: Preprocessing the data\n",
        "# Tokenize the text\n",
        "tokenizer = Tokenizer(num_words=1000)  # Limit vocabulary size\n",
        "tokenizer.fit_on_texts(texts)\n",
        "sequences = tokenizer.texts_to_sequences(texts)\n",
        "word_index = tokenizer.word_index\n",
        "\n",
        "# Pad the sequences to make them all the same length\n",
        "max_len = 8\n",
        "X = pad_sequences(sequences, maxlen=max_len)\n",
        "\n",
        "\n",
        "# Encode labels\n",
        "encoder = LabelEncoder()\n",
        "y = encoder.fit_transform(labels)\n",
        "\n",
        "# Train-test split\n",
        "X_train, X_test, y_train, y_test = train_test_split(X, y, test_size=0.2, random_state=42)\n",
        "\n",
        "# Step 2: Build the RNN model\n",
        "model = Sequential([\n",
        "    Embedding(input_dim=1000, output_dim=256, input_length=max_len),  # Embedding layer\n",
        "    LSTM(16, return_sequences=False, activation='relu'),  # RNN layer with 32 units\n",
        "    Dropout(0.2),\n",
        "\n",
        "    Dense(16, activation='relu'),  # Output layer for binary classification\n",
        "    Dense(32, activation='relu'),  # Output layer for binary classification\n",
        "    Dense(1, activation='sigmoid')  # Output layer for binary classification\n",
        "])\n",
        "model.summary()\n",
        "\n",
        "OPTIMIZER = Adam(learning_rate=LR)\n",
        "# Step 3: Compile the model\n",
        "model.compile(optimizer=OPTIMIZER , loss='binary_crossentropy',metrics=[f1_metric])\n",
        "# Step 4: Train the model\n",
        "model.fit(X_train, y_train, epochs=10, batch_size=4, validation_split=0.2)\n",
        "\n",
        "# Step 5: Evaluate the model\n",
        "loss, f1_val = model.evaluate(X_test, y_test)\n",
        "print(f\"Test Accuracy: {f1_val:.2f}\")\n"
      ],
      "metadata": {
        "trusted": true,
        "execution": {
          "iopub.status.busy": "2025-01-28T15:43:20.467208Z",
          "iopub.execute_input": "2025-01-28T15:43:20.467694Z",
          "iopub.status.idle": "2025-01-28T15:44:53.643726Z",
          "shell.execute_reply.started": "2025-01-28T15:43:20.467659Z",
          "shell.execute_reply": "2025-01-28T15:44:53.642399Z"
        },
        "id": "-Q7cfeeLz-EN",
        "outputId": "289c2015-500c-4538-8a9e-f5c5dff50d55"
      },
      "outputs": [
        {
          "name": "stdout",
          "text": "Model: \"sequential_18\"\n_________________________________________________________________\n Layer (type)                Output Shape              Param #   \n=================================================================\n embedding_18 (Embedding)    (None, 8, 256)            256000    \n                                                                 \n lstm_17 (LSTM)              (None, 16)                17472     \n                                                                 \n dropout_29 (Dropout)        (None, 16)                0         \n                                                                 \n dense_54 (Dense)            (None, 16)                272       \n                                                                 \n dense_55 (Dense)            (None, 32)                544       \n                                                                 \n dense_56 (Dense)            (None, 1)                 33        \n                                                                 \n=================================================================\nTotal params: 274,321\nTrainable params: 274,321\nNon-trainable params: 0\n_________________________________________________________________\nEpoch 1/10\n1198/1198 [==============================] - 11s 8ms/step - loss: 0.5768 - f1_metric: 0.4930 - val_loss: 0.5339 - val_f1_metric: 0.5948\nEpoch 2/10\n1198/1198 [==============================] - 9s 8ms/step - loss: 0.4540 - f1_metric: 0.6077 - val_loss: 0.5585 - val_f1_metric: 0.5430\nEpoch 3/10\n1198/1198 [==============================] - 9s 8ms/step - loss: 0.3998 - f1_metric: 0.6423 - val_loss: 0.5665 - val_f1_metric: 0.5905\nEpoch 4/10\n1198/1198 [==============================] - 9s 7ms/step - loss: 0.3550 - f1_metric: 0.6802 - val_loss: 0.7096 - val_f1_metric: 0.5355\nEpoch 5/10\n1198/1198 [==============================] - 9s 8ms/step - loss: 0.3158 - f1_metric: 0.7038 - val_loss: 0.9166 - val_f1_metric: 0.5983\nEpoch 6/10\n1198/1198 [==============================] - 9s 7ms/step - loss: 0.2840 - f1_metric: 0.7300 - val_loss: 1.6047 - val_f1_metric: 0.5725\nEpoch 7/10\n1198/1198 [==============================] - 9s 8ms/step - loss: 0.2511 - f1_metric: 0.7352 - val_loss: 1.1281 - val_f1_metric: 0.5667\nEpoch 8/10\n1198/1198 [==============================] - 9s 7ms/step - loss: 0.2257 - f1_metric: 0.7518 - val_loss: 1.2030 - val_f1_metric: 0.5518\nEpoch 9/10\n1198/1198 [==============================] - 9s 7ms/step - loss: 0.2090 - f1_metric: 0.7775 - val_loss: 1.6663 - val_f1_metric: 0.5626\nEpoch 10/10\n1198/1198 [==============================] - 9s 8ms/step - loss: 0.1843 - f1_metric: 0.7853 - val_loss: 1.7372 - val_f1_metric: 0.5947\n47/47 [==============================] - 0s 3ms/step - loss: 1.4283 - f1_metric: 0.6605\nTest Accuracy: 0.66\n",
          "output_type": "stream"
        }
      ],
      "execution_count": null
    },
    {
      "cell_type": "markdown",
      "source": [
        "# Train your own model, fine-tuning BERT"
      ],
      "metadata": {
        "id": "65PRxnrlz-EN"
      }
    },
    {
      "cell_type": "code",
      "source": [
        "def displayConfusionMatrix(y_true, y_pred, dataset):\n",
        "    disp = ConfusionMatrixDisplay.from_predictions(\n",
        "        y_true,\n",
        "        np.argmax(y_pred, axis=1),\n",
        "        display_labels=[\"Not Disaster\",\"Disaster\"],\n",
        "        cmap=plt.cm.Blues\n",
        "    )\n",
        "\n",
        "    tn, fp, fn, tp = confusion_matrix(y_true, np.argmax(y_pred, axis=1)).ravel()\n",
        "    f1_score = tp / (tp+((fn+fp)/2))\n",
        "\n",
        "    disp.ax_.set_title(\"Confusion Matrix on \" + dataset + \" Dataset -- F1 Score: \" + str(f1_score.round(2)))\n"
      ],
      "metadata": {
        "execution": {
          "iopub.status.busy": "2025-01-28T15:31:04.787624Z",
          "iopub.execute_input": "2025-01-28T15:31:04.787992Z",
          "iopub.status.idle": "2025-01-28T15:31:04.794444Z",
          "shell.execute_reply.started": "2025-01-28T15:31:04.787962Z",
          "shell.execute_reply": "2025-01-28T15:31:04.793297Z"
        },
        "trusted": true,
        "id": "CCfhP056z-EO"
      },
      "outputs": [],
      "execution_count": null
    },
    {
      "cell_type": "code",
      "source": [
        "y_pred_train = model.predict(X_train)\n",
        "\n",
        "displayConfusionMatrix(y_train, y_pred_train, \"Training\")"
      ],
      "metadata": {
        "execution": {
          "iopub.status.busy": "2025-01-28T15:31:07.718946Z",
          "iopub.execute_input": "2025-01-28T15:31:07.719341Z",
          "iopub.status.idle": "2025-01-28T15:31:08.716663Z",
          "shell.execute_reply.started": "2025-01-28T15:31:07.719307Z",
          "shell.execute_reply": "2025-01-28T15:31:08.715537Z"
        },
        "trusted": true,
        "id": "tRZ6zhyDz-EO",
        "outputId": "3e833a55-f481-4141-dc95-d791a5d96167"
      },
      "outputs": [
        {
          "name": "stdout",
          "text": "188/188 [==============================] - 1s 2ms/step\n",
          "output_type": "stream"
        },
        {
          "output_type": "display_data",
          "data": {
            "text/plain": "<Figure size 640x480 with 2 Axes>",
            "image/png": "[encoded data removed]"
          },
          "metadata": {}
        }
      ],
      "execution_count": null
    },
    {
      "cell_type": "code",
      "source": [
        "y_pred_val = classifier.predict(X_val)\n",
        "\n",
        "displayConfusionMatrix(y_val, y_pred_val, \"Validation\")"
      ],
      "metadata": {
        "execution": {
          "iopub.status.busy": "2025-01-28T14:57:53.690374Z",
          "iopub.execute_input": "2025-01-28T14:57:53.690839Z",
          "iopub.status.idle": "2025-01-28T14:57:53.759732Z",
          "shell.execute_reply.started": "2025-01-28T14:57:53.690784Z",
          "shell.execute_reply": "2025-01-28T14:57:53.758325Z"
        },
        "trusted": true,
        "id": "vXnvPg89z-EP",
        "outputId": "29319984-07eb-43a8-9445-099b680c4d99"
      },
      "outputs": [
        {
          "traceback": [
            "\u001b[0;31m---------------------------------------------------------------------------\u001b[0m",
            "\u001b[0;31mNameError\u001b[0m                                 Traceback (most recent call last)",
            "Cell \u001b[0;32mIn[26], line 1\u001b[0m\n\u001b[0;32m----> 1\u001b[0m y_pred_val \u001b[38;5;241m=\u001b[39m \u001b[43mclassifier\u001b[49m\u001b[38;5;241m.\u001b[39mpredict(X_val)\n\u001b[1;32m      3\u001b[0m displayConfusionMatrix(y_val, y_pred_val, \u001b[38;5;124m\"\u001b[39m\u001b[38;5;124mValidation\u001b[39m\u001b[38;5;124m\"\u001b[39m)\n",
            "\u001b[0;31mNameError\u001b[0m: name 'classifier' is not defined"
          ],
          "ename": "NameError",
          "evalue": "name 'classifier' is not defined",
          "output_type": "error"
        }
      ],
      "execution_count": null
    },
    {
      "cell_type": "markdown",
      "source": [
        "# Generate the submission file\n",
        "\n",
        "For each tweets in the test set, we predict if the given tweet is about a real disaster or not. If so, predict a 1. If not, predict a 0.\n",
        "\n",
        "The `submission.csv` file uses the following format:\n",
        "`id,target`"
      ],
      "metadata": {
        "id": "s4pIAvojz-EQ"
      }
    },
    {
      "cell_type": "code",
      "source": [
        "sample_submission = pd.read_csv(\"/kaggle/input/nlp-getting-started/sample_submission.csv\")\n",
        "sample_submission.head()"
      ],
      "metadata": {
        "execution": {
          "iopub.status.busy": "2025-01-28T14:57:53.760834Z",
          "iopub.status.idle": "2025-01-28T14:57:53.761247Z",
          "shell.execute_reply.started": "2025-01-28T14:57:53.761063Z",
          "shell.execute_reply": "2025-01-28T14:57:53.761083Z"
        },
        "trusted": true,
        "id": "InAQqQEFz-ER"
      },
      "outputs": [],
      "execution_count": null
    },
    {
      "cell_type": "code",
      "source": [
        "sample_submission[\"target\"] = np.argmax(classifier.predict(X_test), axis=1)"
      ],
      "metadata": {
        "execution": {
          "iopub.status.busy": "2025-01-28T14:57:53.762524Z",
          "iopub.status.idle": "2025-01-28T14:57:53.762924Z",
          "shell.execute_reply.started": "2025-01-28T14:57:53.76275Z",
          "shell.execute_reply": "2025-01-28T14:57:53.76277Z"
        },
        "trusted": true,
        "id": "ZXcft5cTz-ES"
      },
      "outputs": [],
      "execution_count": null
    },
    {
      "cell_type": "code",
      "source": [
        "sample_submission.describe()"
      ],
      "metadata": {
        "execution": {
          "iopub.status.busy": "2025-01-28T14:57:53.764166Z",
          "iopub.status.idle": "2025-01-28T14:57:53.764682Z",
          "shell.execute_reply.started": "2025-01-28T14:57:53.764433Z",
          "shell.execute_reply": "2025-01-28T14:57:53.764458Z"
        },
        "trusted": true,
        "id": "aFQa9M6Yz-EU"
      },
      "outputs": [],
      "execution_count": null
    },
    {
      "cell_type": "code",
      "source": [
        "sample_submission.to_csv(\"submission.csv\", index=False)"
      ],
      "metadata": {
        "execution": {
          "iopub.status.busy": "2025-01-28T14:57:53.76629Z",
          "iopub.status.idle": "2025-01-28T14:57:53.766823Z",
          "shell.execute_reply.started": "2025-01-28T14:57:53.766572Z",
          "shell.execute_reply": "2025-01-28T14:57:53.766595Z"
        },
        "trusted": true,
        "id": "GLzPpiO7z-EU"
      },
      "outputs": [],
      "execution_count": null
    }
  ]
}